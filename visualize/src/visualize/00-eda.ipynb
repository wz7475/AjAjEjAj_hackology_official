{
 "cells": [
  {
   "metadata": {},
   "cell_type": "code",
   "outputs": [],
   "execution_count": null,
   "source": "",
   "id": "89c63fe8f6bc1b87"
  },
  {
   "cell_type": "code",
   "id": "initial_id",
   "metadata": {
    "collapsed": true,
    "ExecuteTime": {
     "end_time": "2024-10-19T19:23:00.341912Z",
     "start_time": "2024-10-19T19:23:00.286017Z"
    }
   },
   "source": [
    "import pandas as pd\n",
    "import plotly.express as px\n",
    "import plotly.graph_objects as go"
   ],
   "outputs": [],
   "execution_count": 3
  },
  {
   "metadata": {
    "ExecuteTime": {
     "end_time": "2024-10-19T19:32:26.538889Z",
     "start_time": "2024-10-19T19:32:26.525944Z"
    }
   },
   "cell_type": "code",
   "source": [
    "data = {\n",
    "\t'age': {\n",
    "\t\t'5-9': 0.1,\n",
    "\t\t'15-19': 0.01,\n",
    "\t\t'30-35': 0.2,\n",
    "\t\t'70+': 0.1\n",
    "\t},\n",
    "\t'sex': {\n",
    "\t\t'm': 0.1,\n",
    "\t\t'f': 0.2\n",
    "\t},\n",
    "\t'poi': {\n",
    "\t\t'churches': 0.1,\n",
    "\t\t'univeristy': 0.9,\n",
    "\t\t'shop': 0.2,\n",
    "\t\t'pub': 0.1\n",
    "\t},\n",
    "\t'localization_type': {\n",
    "\t\t'city': 0.1,\n",
    "\t\t'town': 0.2\n",
    "\t}\n",
    "}\n",
    "long_data = []\n",
    "\n",
    "# Iterating over the original data dictionary to flatten it into long-form\n",
    "for category, subcategories in data.items():\n",
    "\tfor subcategory, value in subcategories.items():\n",
    "\t\tlong_data.append([category, subcategory, value])\n",
    "\n",
    "# Create a DataFrame\n",
    "df_long = pd.DataFrame(long_data, columns=['category', 'subcategory', 'value'])\n",
    "df_long"
   ],
   "id": "2b5608e2997f68ad",
   "outputs": [
    {
     "data": {
      "text/plain": [
       "             category subcategory  value\n",
       "0                 age         5-9   0.10\n",
       "1                 age       15-19   0.01\n",
       "2                 age       30-35   0.20\n",
       "3                 age         70+   0.10\n",
       "4                 sex           m   0.10\n",
       "5                 sex           f   0.20\n",
       "6                 poi    churches   0.10\n",
       "7                 poi  univeristy   0.90\n",
       "8                 poi        shop   0.20\n",
       "9                 poi         pub   0.10\n",
       "10  localization_type        city   0.10\n",
       "11  localization_type        town   0.20"
      ],
      "text/html": [
       "<div>\n",
       "<style scoped>\n",
       "    .dataframe tbody tr th:only-of-type {\n",
       "        vertical-align: middle;\n",
       "    }\n",
       "\n",
       "    .dataframe tbody tr th {\n",
       "        vertical-align: top;\n",
       "    }\n",
       "\n",
       "    .dataframe thead th {\n",
       "        text-align: right;\n",
       "    }\n",
       "</style>\n",
       "<table border=\"1\" class=\"dataframe\">\n",
       "  <thead>\n",
       "    <tr style=\"text-align: right;\">\n",
       "      <th></th>\n",
       "      <th>category</th>\n",
       "      <th>subcategory</th>\n",
       "      <th>value</th>\n",
       "    </tr>\n",
       "  </thead>\n",
       "  <tbody>\n",
       "    <tr>\n",
       "      <th>0</th>\n",
       "      <td>age</td>\n",
       "      <td>5-9</td>\n",
       "      <td>0.10</td>\n",
       "    </tr>\n",
       "    <tr>\n",
       "      <th>1</th>\n",
       "      <td>age</td>\n",
       "      <td>15-19</td>\n",
       "      <td>0.01</td>\n",
       "    </tr>\n",
       "    <tr>\n",
       "      <th>2</th>\n",
       "      <td>age</td>\n",
       "      <td>30-35</td>\n",
       "      <td>0.20</td>\n",
       "    </tr>\n",
       "    <tr>\n",
       "      <th>3</th>\n",
       "      <td>age</td>\n",
       "      <td>70+</td>\n",
       "      <td>0.10</td>\n",
       "    </tr>\n",
       "    <tr>\n",
       "      <th>4</th>\n",
       "      <td>sex</td>\n",
       "      <td>m</td>\n",
       "      <td>0.10</td>\n",
       "    </tr>\n",
       "    <tr>\n",
       "      <th>5</th>\n",
       "      <td>sex</td>\n",
       "      <td>f</td>\n",
       "      <td>0.20</td>\n",
       "    </tr>\n",
       "    <tr>\n",
       "      <th>6</th>\n",
       "      <td>poi</td>\n",
       "      <td>churches</td>\n",
       "      <td>0.10</td>\n",
       "    </tr>\n",
       "    <tr>\n",
       "      <th>7</th>\n",
       "      <td>poi</td>\n",
       "      <td>univeristy</td>\n",
       "      <td>0.90</td>\n",
       "    </tr>\n",
       "    <tr>\n",
       "      <th>8</th>\n",
       "      <td>poi</td>\n",
       "      <td>shop</td>\n",
       "      <td>0.20</td>\n",
       "    </tr>\n",
       "    <tr>\n",
       "      <th>9</th>\n",
       "      <td>poi</td>\n",
       "      <td>pub</td>\n",
       "      <td>0.10</td>\n",
       "    </tr>\n",
       "    <tr>\n",
       "      <th>10</th>\n",
       "      <td>localization_type</td>\n",
       "      <td>city</td>\n",
       "      <td>0.10</td>\n",
       "    </tr>\n",
       "    <tr>\n",
       "      <th>11</th>\n",
       "      <td>localization_type</td>\n",
       "      <td>town</td>\n",
       "      <td>0.20</td>\n",
       "    </tr>\n",
       "  </tbody>\n",
       "</table>\n",
       "</div>"
      ]
     },
     "execution_count": 20,
     "metadata": {},
     "output_type": "execute_result"
    }
   ],
   "execution_count": 20
  },
  {
   "metadata": {
    "ExecuteTime": {
     "end_time": "2024-10-19T19:33:23.142770Z",
     "start_time": "2024-10-19T19:33:23.119346Z"
    }
   },
   "cell_type": "code",
   "source": [
    "age_data = df_long[df_long['category'] == 'age']\n",
    "fig = go.Figure()\n",
    "fig.add_trace(go.Scatterpolar(\n",
    "\tr=age_data['value'],  # Values from df_long\n",
    "\ttheta=age_data['subcategory'],  # Subcategories (e.g., age ranges)\n",
    "\tfill='toself',\n",
    "\tname='Age Category'\n",
    "))\n",
    "fig.update_layout(\n",
    "\ttemplate='plotly_dark',\n",
    "\tpolar=dict(\n",
    "\t\tradialaxis=dict(\n",
    "\t\t\tvisible=True,\n",
    "\t\t\trange=[0, age_data['value'].max()]  # Dynamic range based on values\n",
    "\t\t)),\n",
    "\tshowlegend=True\n",
    ")\n",
    "fig.show()"
   ],
   "id": "2cce0398b00b4da4",
   "outputs": [
    {
     "data": {
      "application/vnd.plotly.v1+json": {
       "data": [
        {
         "fill": "toself",
         "name": "Age Category",
         "r": [
          0.1,
          0.01,
          0.2,
          0.1
         ],
         "theta": [
          "5-9",
          "15-19",
          "30-35",
          "70+"
         ],
         "type": "scatterpolar"
        }
       ],
       "layout": {
        "template": {
         "data": {
          "barpolar": [
           {
            "marker": {
             "line": {
              "color": "rgb(17,17,17)",
              "width": 0.5
             },
             "pattern": {
              "fillmode": "overlay",
              "size": 10,
              "solidity": 0.2
             }
            },
            "type": "barpolar"
           }
          ],
          "bar": [
           {
            "error_x": {
             "color": "#f2f5fa"
            },
            "error_y": {
             "color": "#f2f5fa"
            },
            "marker": {
             "line": {
              "color": "rgb(17,17,17)",
              "width": 0.5
             },
             "pattern": {
              "fillmode": "overlay",
              "size": 10,
              "solidity": 0.2
             }
            },
            "type": "bar"
           }
          ],
          "carpet": [
           {
            "aaxis": {
             "endlinecolor": "#A2B1C6",
             "gridcolor": "#506784",
             "linecolor": "#506784",
             "minorgridcolor": "#506784",
             "startlinecolor": "#A2B1C6"
            },
            "baxis": {
             "endlinecolor": "#A2B1C6",
             "gridcolor": "#506784",
             "linecolor": "#506784",
             "minorgridcolor": "#506784",
             "startlinecolor": "#A2B1C6"
            },
            "type": "carpet"
           }
          ],
          "choropleth": [
           {
            "colorbar": {
             "outlinewidth": 0,
             "ticks": ""
            },
            "type": "choropleth"
           }
          ],
          "contourcarpet": [
           {
            "colorbar": {
             "outlinewidth": 0,
             "ticks": ""
            },
            "type": "contourcarpet"
           }
          ],
          "contour": [
           {
            "colorbar": {
             "outlinewidth": 0,
             "ticks": ""
            },
            "colorscale": [
             [
              0.0,
              "#0d0887"
             ],
             [
              0.1111111111111111,
              "#46039f"
             ],
             [
              0.2222222222222222,
              "#7201a8"
             ],
             [
              0.3333333333333333,
              "#9c179e"
             ],
             [
              0.4444444444444444,
              "#bd3786"
             ],
             [
              0.5555555555555556,
              "#d8576b"
             ],
             [
              0.6666666666666666,
              "#ed7953"
             ],
             [
              0.7777777777777778,
              "#fb9f3a"
             ],
             [
              0.8888888888888888,
              "#fdca26"
             ],
             [
              1.0,
              "#f0f921"
             ]
            ],
            "type": "contour"
           }
          ],
          "heatmapgl": [
           {
            "colorbar": {
             "outlinewidth": 0,
             "ticks": ""
            },
            "colorscale": [
             [
              0.0,
              "#0d0887"
             ],
             [
              0.1111111111111111,
              "#46039f"
             ],
             [
              0.2222222222222222,
              "#7201a8"
             ],
             [
              0.3333333333333333,
              "#9c179e"
             ],
             [
              0.4444444444444444,
              "#bd3786"
             ],
             [
              0.5555555555555556,
              "#d8576b"
             ],
             [
              0.6666666666666666,
              "#ed7953"
             ],
             [
              0.7777777777777778,
              "#fb9f3a"
             ],
             [
              0.8888888888888888,
              "#fdca26"
             ],
             [
              1.0,
              "#f0f921"
             ]
            ],
            "type": "heatmapgl"
           }
          ],
          "heatmap": [
           {
            "colorbar": {
             "outlinewidth": 0,
             "ticks": ""
            },
            "colorscale": [
             [
              0.0,
              "#0d0887"
             ],
             [
              0.1111111111111111,
              "#46039f"
             ],
             [
              0.2222222222222222,
              "#7201a8"
             ],
             [
              0.3333333333333333,
              "#9c179e"
             ],
             [
              0.4444444444444444,
              "#bd3786"
             ],
             [
              0.5555555555555556,
              "#d8576b"
             ],
             [
              0.6666666666666666,
              "#ed7953"
             ],
             [
              0.7777777777777778,
              "#fb9f3a"
             ],
             [
              0.8888888888888888,
              "#fdca26"
             ],
             [
              1.0,
              "#f0f921"
             ]
            ],
            "type": "heatmap"
           }
          ],
          "histogram2dcontour": [
           {
            "colorbar": {
             "outlinewidth": 0,
             "ticks": ""
            },
            "colorscale": [
             [
              0.0,
              "#0d0887"
             ],
             [
              0.1111111111111111,
              "#46039f"
             ],
             [
              0.2222222222222222,
              "#7201a8"
             ],
             [
              0.3333333333333333,
              "#9c179e"
             ],
             [
              0.4444444444444444,
              "#bd3786"
             ],
             [
              0.5555555555555556,
              "#d8576b"
             ],
             [
              0.6666666666666666,
              "#ed7953"
             ],
             [
              0.7777777777777778,
              "#fb9f3a"
             ],
             [
              0.8888888888888888,
              "#fdca26"
             ],
             [
              1.0,
              "#f0f921"
             ]
            ],
            "type": "histogram2dcontour"
           }
          ],
          "histogram2d": [
           {
            "colorbar": {
             "outlinewidth": 0,
             "ticks": ""
            },
            "colorscale": [
             [
              0.0,
              "#0d0887"
             ],
             [
              0.1111111111111111,
              "#46039f"
             ],
             [
              0.2222222222222222,
              "#7201a8"
             ],
             [
              0.3333333333333333,
              "#9c179e"
             ],
             [
              0.4444444444444444,
              "#bd3786"
             ],
             [
              0.5555555555555556,
              "#d8576b"
             ],
             [
              0.6666666666666666,
              "#ed7953"
             ],
             [
              0.7777777777777778,
              "#fb9f3a"
             ],
             [
              0.8888888888888888,
              "#fdca26"
             ],
             [
              1.0,
              "#f0f921"
             ]
            ],
            "type": "histogram2d"
           }
          ],
          "histogram": [
           {
            "marker": {
             "pattern": {
              "fillmode": "overlay",
              "size": 10,
              "solidity": 0.2
             }
            },
            "type": "histogram"
           }
          ],
          "mesh3d": [
           {
            "colorbar": {
             "outlinewidth": 0,
             "ticks": ""
            },
            "type": "mesh3d"
           }
          ],
          "parcoords": [
           {
            "line": {
             "colorbar": {
              "outlinewidth": 0,
              "ticks": ""
             }
            },
            "type": "parcoords"
           }
          ],
          "pie": [
           {
            "automargin": true,
            "type": "pie"
           }
          ],
          "scatter3d": [
           {
            "line": {
             "colorbar": {
              "outlinewidth": 0,
              "ticks": ""
             }
            },
            "marker": {
             "colorbar": {
              "outlinewidth": 0,
              "ticks": ""
             }
            },
            "type": "scatter3d"
           }
          ],
          "scattercarpet": [
           {
            "marker": {
             "colorbar": {
              "outlinewidth": 0,
              "ticks": ""
             }
            },
            "type": "scattercarpet"
           }
          ],
          "scattergeo": [
           {
            "marker": {
             "colorbar": {
              "outlinewidth": 0,
              "ticks": ""
             }
            },
            "type": "scattergeo"
           }
          ],
          "scattergl": [
           {
            "marker": {
             "line": {
              "color": "#283442"
             }
            },
            "type": "scattergl"
           }
          ],
          "scattermapbox": [
           {
            "marker": {
             "colorbar": {
              "outlinewidth": 0,
              "ticks": ""
             }
            },
            "type": "scattermapbox"
           }
          ],
          "scatterpolargl": [
           {
            "marker": {
             "colorbar": {
              "outlinewidth": 0,
              "ticks": ""
             }
            },
            "type": "scatterpolargl"
           }
          ],
          "scatterpolar": [
           {
            "marker": {
             "colorbar": {
              "outlinewidth": 0,
              "ticks": ""
             }
            },
            "type": "scatterpolar"
           }
          ],
          "scatter": [
           {
            "marker": {
             "line": {
              "color": "#283442"
             }
            },
            "type": "scatter"
           }
          ],
          "scatterternary": [
           {
            "marker": {
             "colorbar": {
              "outlinewidth": 0,
              "ticks": ""
             }
            },
            "type": "scatterternary"
           }
          ],
          "surface": [
           {
            "colorbar": {
             "outlinewidth": 0,
             "ticks": ""
            },
            "colorscale": [
             [
              0.0,
              "#0d0887"
             ],
             [
              0.1111111111111111,
              "#46039f"
             ],
             [
              0.2222222222222222,
              "#7201a8"
             ],
             [
              0.3333333333333333,
              "#9c179e"
             ],
             [
              0.4444444444444444,
              "#bd3786"
             ],
             [
              0.5555555555555556,
              "#d8576b"
             ],
             [
              0.6666666666666666,
              "#ed7953"
             ],
             [
              0.7777777777777778,
              "#fb9f3a"
             ],
             [
              0.8888888888888888,
              "#fdca26"
             ],
             [
              1.0,
              "#f0f921"
             ]
            ],
            "type": "surface"
           }
          ],
          "table": [
           {
            "cells": {
             "fill": {
              "color": "#506784"
             },
             "line": {
              "color": "rgb(17,17,17)"
             }
            },
            "header": {
             "fill": {
              "color": "#2a3f5f"
             },
             "line": {
              "color": "rgb(17,17,17)"
             }
            },
            "type": "table"
           }
          ]
         },
         "layout": {
          "annotationdefaults": {
           "arrowcolor": "#f2f5fa",
           "arrowhead": 0,
           "arrowwidth": 1
          },
          "autotypenumbers": "strict",
          "coloraxis": {
           "colorbar": {
            "outlinewidth": 0,
            "ticks": ""
           }
          },
          "colorscale": {
           "diverging": [
            [
             0,
             "#8e0152"
            ],
            [
             0.1,
             "#c51b7d"
            ],
            [
             0.2,
             "#de77ae"
            ],
            [
             0.3,
             "#f1b6da"
            ],
            [
             0.4,
             "#fde0ef"
            ],
            [
             0.5,
             "#f7f7f7"
            ],
            [
             0.6,
             "#e6f5d0"
            ],
            [
             0.7,
             "#b8e186"
            ],
            [
             0.8,
             "#7fbc41"
            ],
            [
             0.9,
             "#4d9221"
            ],
            [
             1,
             "#276419"
            ]
           ],
           "sequential": [
            [
             0.0,
             "#0d0887"
            ],
            [
             0.1111111111111111,
             "#46039f"
            ],
            [
             0.2222222222222222,
             "#7201a8"
            ],
            [
             0.3333333333333333,
             "#9c179e"
            ],
            [
             0.4444444444444444,
             "#bd3786"
            ],
            [
             0.5555555555555556,
             "#d8576b"
            ],
            [
             0.6666666666666666,
             "#ed7953"
            ],
            [
             0.7777777777777778,
             "#fb9f3a"
            ],
            [
             0.8888888888888888,
             "#fdca26"
            ],
            [
             1.0,
             "#f0f921"
            ]
           ],
           "sequentialminus": [
            [
             0.0,
             "#0d0887"
            ],
            [
             0.1111111111111111,
             "#46039f"
            ],
            [
             0.2222222222222222,
             "#7201a8"
            ],
            [
             0.3333333333333333,
             "#9c179e"
            ],
            [
             0.4444444444444444,
             "#bd3786"
            ],
            [
             0.5555555555555556,
             "#d8576b"
            ],
            [
             0.6666666666666666,
             "#ed7953"
            ],
            [
             0.7777777777777778,
             "#fb9f3a"
            ],
            [
             0.8888888888888888,
             "#fdca26"
            ],
            [
             1.0,
             "#f0f921"
            ]
           ]
          },
          "colorway": [
           "#636efa",
           "#EF553B",
           "#00cc96",
           "#ab63fa",
           "#FFA15A",
           "#19d3f3",
           "#FF6692",
           "#B6E880",
           "#FF97FF",
           "#FECB52"
          ],
          "font": {
           "color": "#f2f5fa"
          },
          "geo": {
           "bgcolor": "rgb(17,17,17)",
           "lakecolor": "rgb(17,17,17)",
           "landcolor": "rgb(17,17,17)",
           "showlakes": true,
           "showland": true,
           "subunitcolor": "#506784"
          },
          "hoverlabel": {
           "align": "left"
          },
          "hovermode": "closest",
          "mapbox": {
           "style": "dark"
          },
          "paper_bgcolor": "rgb(17,17,17)",
          "plot_bgcolor": "rgb(17,17,17)",
          "polar": {
           "angularaxis": {
            "gridcolor": "#506784",
            "linecolor": "#506784",
            "ticks": ""
           },
           "bgcolor": "rgb(17,17,17)",
           "radialaxis": {
            "gridcolor": "#506784",
            "linecolor": "#506784",
            "ticks": ""
           }
          },
          "scene": {
           "xaxis": {
            "backgroundcolor": "rgb(17,17,17)",
            "gridcolor": "#506784",
            "gridwidth": 2,
            "linecolor": "#506784",
            "showbackground": true,
            "ticks": "",
            "zerolinecolor": "#C8D4E3"
           },
           "yaxis": {
            "backgroundcolor": "rgb(17,17,17)",
            "gridcolor": "#506784",
            "gridwidth": 2,
            "linecolor": "#506784",
            "showbackground": true,
            "ticks": "",
            "zerolinecolor": "#C8D4E3"
           },
           "zaxis": {
            "backgroundcolor": "rgb(17,17,17)",
            "gridcolor": "#506784",
            "gridwidth": 2,
            "linecolor": "#506784",
            "showbackground": true,
            "ticks": "",
            "zerolinecolor": "#C8D4E3"
           }
          },
          "shapedefaults": {
           "line": {
            "color": "#f2f5fa"
           }
          },
          "sliderdefaults": {
           "bgcolor": "#C8D4E3",
           "bordercolor": "rgb(17,17,17)",
           "borderwidth": 1,
           "tickwidth": 0
          },
          "ternary": {
           "aaxis": {
            "gridcolor": "#506784",
            "linecolor": "#506784",
            "ticks": ""
           },
           "baxis": {
            "gridcolor": "#506784",
            "linecolor": "#506784",
            "ticks": ""
           },
           "bgcolor": "rgb(17,17,17)",
           "caxis": {
            "gridcolor": "#506784",
            "linecolor": "#506784",
            "ticks": ""
           }
          },
          "title": {
           "x": 0.05
          },
          "updatemenudefaults": {
           "bgcolor": "#506784",
           "borderwidth": 0
          },
          "xaxis": {
           "automargin": true,
           "gridcolor": "#283442",
           "linecolor": "#506784",
           "ticks": "",
           "title": {
            "standoff": 15
           },
           "zerolinecolor": "#283442",
           "zerolinewidth": 2
          },
          "yaxis": {
           "automargin": true,
           "gridcolor": "#283442",
           "linecolor": "#506784",
           "ticks": "",
           "title": {
            "standoff": 15
           },
           "zerolinecolor": "#283442",
           "zerolinewidth": 2
          }
         }
        },
        "polar": {
         "radialaxis": {
          "visible": true,
          "range": [
           0,
           0.2
          ]
         }
        },
        "showlegend": true
       },
       "config": {
        "plotlyServerURL": "https://plot.ly"
       }
      },
      "text/html": [
       "<div>                            <div id=\"cfb657ea-c14a-4486-bee2-1c367dae66dd\" class=\"plotly-graph-div\" style=\"height:525px; width:100%;\"></div>            <script type=\"text/javascript\">                require([\"plotly\"], function(Plotly) {                    window.PLOTLYENV=window.PLOTLYENV || {};                                    if (document.getElementById(\"cfb657ea-c14a-4486-bee2-1c367dae66dd\")) {                    Plotly.newPlot(                        \"cfb657ea-c14a-4486-bee2-1c367dae66dd\",                        [{\"fill\":\"toself\",\"name\":\"Age Category\",\"r\":[0.1,0.01,0.2,0.1],\"theta\":[\"5-9\",\"15-19\",\"30-35\",\"70+\"],\"type\":\"scatterpolar\"}],                        {\"template\":{\"data\":{\"barpolar\":[{\"marker\":{\"line\":{\"color\":\"rgb(17,17,17)\",\"width\":0.5},\"pattern\":{\"fillmode\":\"overlay\",\"size\":10,\"solidity\":0.2}},\"type\":\"barpolar\"}],\"bar\":[{\"error_x\":{\"color\":\"#f2f5fa\"},\"error_y\":{\"color\":\"#f2f5fa\"},\"marker\":{\"line\":{\"color\":\"rgb(17,17,17)\",\"width\":0.5},\"pattern\":{\"fillmode\":\"overlay\",\"size\":10,\"solidity\":0.2}},\"type\":\"bar\"}],\"carpet\":[{\"aaxis\":{\"endlinecolor\":\"#A2B1C6\",\"gridcolor\":\"#506784\",\"linecolor\":\"#506784\",\"minorgridcolor\":\"#506784\",\"startlinecolor\":\"#A2B1C6\"},\"baxis\":{\"endlinecolor\":\"#A2B1C6\",\"gridcolor\":\"#506784\",\"linecolor\":\"#506784\",\"minorgridcolor\":\"#506784\",\"startlinecolor\":\"#A2B1C6\"},\"type\":\"carpet\"}],\"choropleth\":[{\"colorbar\":{\"outlinewidth\":0,\"ticks\":\"\"},\"type\":\"choropleth\"}],\"contourcarpet\":[{\"colorbar\":{\"outlinewidth\":0,\"ticks\":\"\"},\"type\":\"contourcarpet\"}],\"contour\":[{\"colorbar\":{\"outlinewidth\":0,\"ticks\":\"\"},\"colorscale\":[[0.0,\"#0d0887\"],[0.1111111111111111,\"#46039f\"],[0.2222222222222222,\"#7201a8\"],[0.3333333333333333,\"#9c179e\"],[0.4444444444444444,\"#bd3786\"],[0.5555555555555556,\"#d8576b\"],[0.6666666666666666,\"#ed7953\"],[0.7777777777777778,\"#fb9f3a\"],[0.8888888888888888,\"#fdca26\"],[1.0,\"#f0f921\"]],\"type\":\"contour\"}],\"heatmapgl\":[{\"colorbar\":{\"outlinewidth\":0,\"ticks\":\"\"},\"colorscale\":[[0.0,\"#0d0887\"],[0.1111111111111111,\"#46039f\"],[0.2222222222222222,\"#7201a8\"],[0.3333333333333333,\"#9c179e\"],[0.4444444444444444,\"#bd3786\"],[0.5555555555555556,\"#d8576b\"],[0.6666666666666666,\"#ed7953\"],[0.7777777777777778,\"#fb9f3a\"],[0.8888888888888888,\"#fdca26\"],[1.0,\"#f0f921\"]],\"type\":\"heatmapgl\"}],\"heatmap\":[{\"colorbar\":{\"outlinewidth\":0,\"ticks\":\"\"},\"colorscale\":[[0.0,\"#0d0887\"],[0.1111111111111111,\"#46039f\"],[0.2222222222222222,\"#7201a8\"],[0.3333333333333333,\"#9c179e\"],[0.4444444444444444,\"#bd3786\"],[0.5555555555555556,\"#d8576b\"],[0.6666666666666666,\"#ed7953\"],[0.7777777777777778,\"#fb9f3a\"],[0.8888888888888888,\"#fdca26\"],[1.0,\"#f0f921\"]],\"type\":\"heatmap\"}],\"histogram2dcontour\":[{\"colorbar\":{\"outlinewidth\":0,\"ticks\":\"\"},\"colorscale\":[[0.0,\"#0d0887\"],[0.1111111111111111,\"#46039f\"],[0.2222222222222222,\"#7201a8\"],[0.3333333333333333,\"#9c179e\"],[0.4444444444444444,\"#bd3786\"],[0.5555555555555556,\"#d8576b\"],[0.6666666666666666,\"#ed7953\"],[0.7777777777777778,\"#fb9f3a\"],[0.8888888888888888,\"#fdca26\"],[1.0,\"#f0f921\"]],\"type\":\"histogram2dcontour\"}],\"histogram2d\":[{\"colorbar\":{\"outlinewidth\":0,\"ticks\":\"\"},\"colorscale\":[[0.0,\"#0d0887\"],[0.1111111111111111,\"#46039f\"],[0.2222222222222222,\"#7201a8\"],[0.3333333333333333,\"#9c179e\"],[0.4444444444444444,\"#bd3786\"],[0.5555555555555556,\"#d8576b\"],[0.6666666666666666,\"#ed7953\"],[0.7777777777777778,\"#fb9f3a\"],[0.8888888888888888,\"#fdca26\"],[1.0,\"#f0f921\"]],\"type\":\"histogram2d\"}],\"histogram\":[{\"marker\":{\"pattern\":{\"fillmode\":\"overlay\",\"size\":10,\"solidity\":0.2}},\"type\":\"histogram\"}],\"mesh3d\":[{\"colorbar\":{\"outlinewidth\":0,\"ticks\":\"\"},\"type\":\"mesh3d\"}],\"parcoords\":[{\"line\":{\"colorbar\":{\"outlinewidth\":0,\"ticks\":\"\"}},\"type\":\"parcoords\"}],\"pie\":[{\"automargin\":true,\"type\":\"pie\"}],\"scatter3d\":[{\"line\":{\"colorbar\":{\"outlinewidth\":0,\"ticks\":\"\"}},\"marker\":{\"colorbar\":{\"outlinewidth\":0,\"ticks\":\"\"}},\"type\":\"scatter3d\"}],\"scattercarpet\":[{\"marker\":{\"colorbar\":{\"outlinewidth\":0,\"ticks\":\"\"}},\"type\":\"scattercarpet\"}],\"scattergeo\":[{\"marker\":{\"colorbar\":{\"outlinewidth\":0,\"ticks\":\"\"}},\"type\":\"scattergeo\"}],\"scattergl\":[{\"marker\":{\"line\":{\"color\":\"#283442\"}},\"type\":\"scattergl\"}],\"scattermapbox\":[{\"marker\":{\"colorbar\":{\"outlinewidth\":0,\"ticks\":\"\"}},\"type\":\"scattermapbox\"}],\"scatterpolargl\":[{\"marker\":{\"colorbar\":{\"outlinewidth\":0,\"ticks\":\"\"}},\"type\":\"scatterpolargl\"}],\"scatterpolar\":[{\"marker\":{\"colorbar\":{\"outlinewidth\":0,\"ticks\":\"\"}},\"type\":\"scatterpolar\"}],\"scatter\":[{\"marker\":{\"line\":{\"color\":\"#283442\"}},\"type\":\"scatter\"}],\"scatterternary\":[{\"marker\":{\"colorbar\":{\"outlinewidth\":0,\"ticks\":\"\"}},\"type\":\"scatterternary\"}],\"surface\":[{\"colorbar\":{\"outlinewidth\":0,\"ticks\":\"\"},\"colorscale\":[[0.0,\"#0d0887\"],[0.1111111111111111,\"#46039f\"],[0.2222222222222222,\"#7201a8\"],[0.3333333333333333,\"#9c179e\"],[0.4444444444444444,\"#bd3786\"],[0.5555555555555556,\"#d8576b\"],[0.6666666666666666,\"#ed7953\"],[0.7777777777777778,\"#fb9f3a\"],[0.8888888888888888,\"#fdca26\"],[1.0,\"#f0f921\"]],\"type\":\"surface\"}],\"table\":[{\"cells\":{\"fill\":{\"color\":\"#506784\"},\"line\":{\"color\":\"rgb(17,17,17)\"}},\"header\":{\"fill\":{\"color\":\"#2a3f5f\"},\"line\":{\"color\":\"rgb(17,17,17)\"}},\"type\":\"table\"}]},\"layout\":{\"annotationdefaults\":{\"arrowcolor\":\"#f2f5fa\",\"arrowhead\":0,\"arrowwidth\":1},\"autotypenumbers\":\"strict\",\"coloraxis\":{\"colorbar\":{\"outlinewidth\":0,\"ticks\":\"\"}},\"colorscale\":{\"diverging\":[[0,\"#8e0152\"],[0.1,\"#c51b7d\"],[0.2,\"#de77ae\"],[0.3,\"#f1b6da\"],[0.4,\"#fde0ef\"],[0.5,\"#f7f7f7\"],[0.6,\"#e6f5d0\"],[0.7,\"#b8e186\"],[0.8,\"#7fbc41\"],[0.9,\"#4d9221\"],[1,\"#276419\"]],\"sequential\":[[0.0,\"#0d0887\"],[0.1111111111111111,\"#46039f\"],[0.2222222222222222,\"#7201a8\"],[0.3333333333333333,\"#9c179e\"],[0.4444444444444444,\"#bd3786\"],[0.5555555555555556,\"#d8576b\"],[0.6666666666666666,\"#ed7953\"],[0.7777777777777778,\"#fb9f3a\"],[0.8888888888888888,\"#fdca26\"],[1.0,\"#f0f921\"]],\"sequentialminus\":[[0.0,\"#0d0887\"],[0.1111111111111111,\"#46039f\"],[0.2222222222222222,\"#7201a8\"],[0.3333333333333333,\"#9c179e\"],[0.4444444444444444,\"#bd3786\"],[0.5555555555555556,\"#d8576b\"],[0.6666666666666666,\"#ed7953\"],[0.7777777777777778,\"#fb9f3a\"],[0.8888888888888888,\"#fdca26\"],[1.0,\"#f0f921\"]]},\"colorway\":[\"#636efa\",\"#EF553B\",\"#00cc96\",\"#ab63fa\",\"#FFA15A\",\"#19d3f3\",\"#FF6692\",\"#B6E880\",\"#FF97FF\",\"#FECB52\"],\"font\":{\"color\":\"#f2f5fa\"},\"geo\":{\"bgcolor\":\"rgb(17,17,17)\",\"lakecolor\":\"rgb(17,17,17)\",\"landcolor\":\"rgb(17,17,17)\",\"showlakes\":true,\"showland\":true,\"subunitcolor\":\"#506784\"},\"hoverlabel\":{\"align\":\"left\"},\"hovermode\":\"closest\",\"mapbox\":{\"style\":\"dark\"},\"paper_bgcolor\":\"rgb(17,17,17)\",\"plot_bgcolor\":\"rgb(17,17,17)\",\"polar\":{\"angularaxis\":{\"gridcolor\":\"#506784\",\"linecolor\":\"#506784\",\"ticks\":\"\"},\"bgcolor\":\"rgb(17,17,17)\",\"radialaxis\":{\"gridcolor\":\"#506784\",\"linecolor\":\"#506784\",\"ticks\":\"\"}},\"scene\":{\"xaxis\":{\"backgroundcolor\":\"rgb(17,17,17)\",\"gridcolor\":\"#506784\",\"gridwidth\":2,\"linecolor\":\"#506784\",\"showbackground\":true,\"ticks\":\"\",\"zerolinecolor\":\"#C8D4E3\"},\"yaxis\":{\"backgroundcolor\":\"rgb(17,17,17)\",\"gridcolor\":\"#506784\",\"gridwidth\":2,\"linecolor\":\"#506784\",\"showbackground\":true,\"ticks\":\"\",\"zerolinecolor\":\"#C8D4E3\"},\"zaxis\":{\"backgroundcolor\":\"rgb(17,17,17)\",\"gridcolor\":\"#506784\",\"gridwidth\":2,\"linecolor\":\"#506784\",\"showbackground\":true,\"ticks\":\"\",\"zerolinecolor\":\"#C8D4E3\"}},\"shapedefaults\":{\"line\":{\"color\":\"#f2f5fa\"}},\"sliderdefaults\":{\"bgcolor\":\"#C8D4E3\",\"bordercolor\":\"rgb(17,17,17)\",\"borderwidth\":1,\"tickwidth\":0},\"ternary\":{\"aaxis\":{\"gridcolor\":\"#506784\",\"linecolor\":\"#506784\",\"ticks\":\"\"},\"baxis\":{\"gridcolor\":\"#506784\",\"linecolor\":\"#506784\",\"ticks\":\"\"},\"bgcolor\":\"rgb(17,17,17)\",\"caxis\":{\"gridcolor\":\"#506784\",\"linecolor\":\"#506784\",\"ticks\":\"\"}},\"title\":{\"x\":0.05},\"updatemenudefaults\":{\"bgcolor\":\"#506784\",\"borderwidth\":0},\"xaxis\":{\"automargin\":true,\"gridcolor\":\"#283442\",\"linecolor\":\"#506784\",\"ticks\":\"\",\"title\":{\"standoff\":15},\"zerolinecolor\":\"#283442\",\"zerolinewidth\":2},\"yaxis\":{\"automargin\":true,\"gridcolor\":\"#283442\",\"linecolor\":\"#506784\",\"ticks\":\"\",\"title\":{\"standoff\":15},\"zerolinecolor\":\"#283442\",\"zerolinewidth\":2}}},\"polar\":{\"radialaxis\":{\"visible\":true,\"range\":[0,0.2]}},\"showlegend\":true},                        {\"responsive\": true}                    ).then(function(){\n",
       "                            \n",
       "var gd = document.getElementById('cfb657ea-c14a-4486-bee2-1c367dae66dd');\n",
       "var x = new MutationObserver(function (mutations, observer) {{\n",
       "        var display = window.getComputedStyle(gd).display;\n",
       "        if (!display || display === 'none') {{\n",
       "            console.log([gd, 'removed!']);\n",
       "            Plotly.purge(gd);\n",
       "            observer.disconnect();\n",
       "        }}\n",
       "}});\n",
       "\n",
       "// Listen for the removal of the full notebook cells\n",
       "var notebookContainer = gd.closest('#notebook-container');\n",
       "if (notebookContainer) {{\n",
       "    x.observe(notebookContainer, {childList: true});\n",
       "}}\n",
       "\n",
       "// Listen for the clearing of the current output cell\n",
       "var outputEl = gd.closest('.output');\n",
       "if (outputEl) {{\n",
       "    x.observe(outputEl, {childList: true});\n",
       "}}\n",
       "\n",
       "                        })                };                });            </script>        </div>"
      ]
     },
     "metadata": {},
     "output_type": "display_data"
    }
   ],
   "execution_count": 21
  },
  {
   "metadata": {
    "ExecuteTime": {
     "end_time": "2024-10-19T22:41:11.036352Z",
     "start_time": "2024-10-19T22:41:11.034022Z"
    }
   },
   "cell_type": "code",
   "source": "df_long['category'].unique()",
   "id": "b8e92129f60372da",
   "outputs": [
    {
     "data": {
      "text/plain": [
       "array(['age', 'sex', 'poi', 'localization_type'], dtype=object)"
      ]
     },
     "execution_count": 24,
     "metadata": {},
     "output_type": "execute_result"
    }
   ],
   "execution_count": 24
  },
  {
   "metadata": {
    "ExecuteTime": {
     "end_time": "2024-10-19T22:44:46.781009Z",
     "start_time": "2024-10-19T22:44:46.777370Z"
    }
   },
   "cell_type": "code",
   "source": "df_long[df_long['category']=='age']['subcategory'].unique()",
   "id": "9220c8b91a497b98",
   "outputs": [
    {
     "data": {
      "text/plain": [
       "subcategory\n",
       "5-9      1\n",
       "15-19    1\n",
       "30-35    1\n",
       "70+      1\n",
       "Name: count, dtype: int64"
      ]
     },
     "execution_count": 27,
     "metadata": {},
     "output_type": "execute_result"
    }
   ],
   "execution_count": 27
  },
  {
   "metadata": {
    "ExecuteTime": {
     "end_time": "2024-10-19T22:48:45.838687Z",
     "start_time": "2024-10-19T22:48:45.834097Z"
    }
   },
   "cell_type": "code",
   "source": [
    "def get_max_value_keys(data):\n",
    "\tmax_value_keys = {}\n",
    "\tfor category, values in data.items():\n",
    "\t\tmax_key = max(values, key=values.get)  # Get the key with the maximum value\n",
    "\t\tmax_value_keys[category] = max_key\n",
    "\treturn max_value_keys\n",
    "\n",
    "get_max_value_keys(data)"
   ],
   "id": "1c8d9c68a40927f2",
   "outputs": [
    {
     "data": {
      "text/plain": [
       "{'age': '30-35', 'sex': 'f', 'poi': 'univeristy', 'localization_type': 'town'}"
      ]
     },
     "execution_count": 28,
     "metadata": {},
     "output_type": "execute_result"
    }
   ],
   "execution_count": 28
  },
  {
   "metadata": {
    "ExecuteTime": {
     "end_time": "2024-10-20T00:48:24.044081Z",
     "start_time": "2024-10-20T00:48:23.995143Z"
    }
   },
   "cell_type": "code",
   "source": [
    "df = pd.read_csv('../../../data/shops_data.csv', index_col=0)\n",
    "df"
   ],
   "id": "43c77e7cbaa28d68",
   "outputs": [
    {
     "data": {
      "text/plain": [
       "      liczba budynków – suma  liczba budynków - mieszkalnych  \\\n",
       "0                 389.000000                      333.000000   \n",
       "1                 215.000000                      166.000000   \n",
       "2                 317.000000                      183.000000   \n",
       "3                  21.000000                        7.000000   \n",
       "4                  64.000000                       33.000000   \n",
       "...                      ...                             ...   \n",
       "3295              492.109860                      254.270337   \n",
       "3296              273.268659                      211.320631   \n",
       "3297              143.383841                      144.220303   \n",
       "3298              216.238607                      215.607785   \n",
       "3299              354.847244                      194.633569   \n",
       "\n",
       "      liczba mieszkań - mieszkalnych według DataWise  \\\n",
       "0                                         879.000000   \n",
       "1                                         766.000000   \n",
       "2                                        2397.000000   \n",
       "3                                          52.000000   \n",
       "4                                         799.000000   \n",
       "...                                              ...   \n",
       "3295                                     3402.375750   \n",
       "3296                                     2125.373921   \n",
       "3297                                     2317.854380   \n",
       "3298                                     1379.449557   \n",
       "3299                                     2596.063112   \n",
       "\n",
       "      szacowana liczba mieszkańców razem  \\\n",
       "0                            2447.000000   \n",
       "1                            1848.000000   \n",
       "2                            4702.000000   \n",
       "3                             212.000000   \n",
       "4                            1900.000000   \n",
       "...                                  ...   \n",
       "3295                         5533.034810   \n",
       "3296                         5820.989625   \n",
       "3297                         2373.973439   \n",
       "3298                         2145.232405   \n",
       "3299                         3410.503209   \n",
       "\n",
       "      średnia liczba osób na gospodarstwo domowe  \\\n",
       "0                                       3.100000   \n",
       "1                                       2.500000   \n",
       "2                                       2.190000   \n",
       "3                                       2.410000   \n",
       "4                                       2.410000   \n",
       "...                                          ...   \n",
       "3295                                    3.718570   \n",
       "3296                                    3.874501   \n",
       "3297                                    5.703964   \n",
       "3298                                    3.969061   \n",
       "3299                                    3.318238   \n",
       "\n",
       "      gęstość zaludnienia osób na km2  \\\n",
       "0                         7456.000000   \n",
       "1                         6752.000000   \n",
       "2                        18884.000000   \n",
       "3                         2332.000000   \n",
       "4                        11243.000000   \n",
       "...                               ...   \n",
       "3295                     16801.875581   \n",
       "3296                     25107.319168   \n",
       "3297                     13654.269118   \n",
       "3298                     11830.664273   \n",
       "3299                     12223.092404   \n",
       "\n",
       "      szacowany średni wiek mieszkańców razem  populacja - procent kobiet  \\\n",
       "0                                   43.200000                   52.800000   \n",
       "1                                   45.100000                   55.030000   \n",
       "2                                   41.000000                   54.910000   \n",
       "3                                   34.600000                   36.320000   \n",
       "4                                   45.400000                   54.680000   \n",
       "...                                       ...                         ...   \n",
       "3295                                59.943387                   56.251481   \n",
       "3296                                68.665858                   64.612474   \n",
       "3297                                77.902255                   66.625106   \n",
       "3298                                55.748790                   57.630025   \n",
       "3299                                53.232114                   77.738858   \n",
       "\n",
       "      populacja - procent mężczyzn  przykład: 4.13  ...  \\\n",
       "0                        47.200000        4.170000  ...   \n",
       "1                        44.970000        3.410000  ...   \n",
       "2                        45.090000        7.040000  ...   \n",
       "3                        63.680000        5.190000  ...   \n",
       "4                        45.320000        3.110000  ...   \n",
       "...                            ...             ...  ...   \n",
       "3295                     68.658499        6.076553  ...   \n",
       "3296                     53.128826       10.173180  ...   \n",
       "3297                     61.759721        9.827462  ...   \n",
       "3298                     51.675961        8.164465  ...   \n",
       "3299                     51.156205       15.803509  ...   \n",
       "\n",
       "      odległość w metrach do najbliższego POI (-1 = większy niż 5000 m) - miejsca kultu (kościół)  \\\n",
       "0                                             50.000000                                             \n",
       "1                                            362.000000                                             \n",
       "2                                             95.000000                                             \n",
       "3                                            751.000000                                             \n",
       "4                                            542.000000                                             \n",
       "...                                                 ...                                             \n",
       "3295                                        1679.576565                                             \n",
       "3296                                         799.233457                                             \n",
       "3297                                        2833.950940                                             \n",
       "3298                                        2613.907197                                             \n",
       "3299                                         772.079402                                             \n",
       "\n",
       "      odległość w metrach do najbliższego POI (-1 = większa niż 5000 m) - poczta (poczta)  \\\n",
       "0                                            457.000000                                     \n",
       "1                                             77.000000                                     \n",
       "2                                            197.000000                                     \n",
       "3                                            252.000000                                     \n",
       "4                                            488.000000                                     \n",
       "...                                                 ...                                     \n",
       "3295                                        1042.385547                                     \n",
       "3296                                        1095.427443                                     \n",
       "3297                                        2157.201639                                     \n",
       "3298                                        2040.252461                                     \n",
       "3299                                        1130.170978                                     \n",
       "\n",
       "      odległość w metrach do najbliższego POI (-1 = większy niż 5000 m) - rozrywka i kult  \\\n",
       "0                                            457.000000                                     \n",
       "1                                           2572.000000                                     \n",
       "2                                            358.000000                                     \n",
       "3                                            255.000000                                     \n",
       "4                                            294.000000                                     \n",
       "...                                                 ...                                     \n",
       "3295                                         969.909751                                     \n",
       "3296                                        1936.870936                                     \n",
       "3297                                        2031.764480                                     \n",
       "3298                                        4229.277823                                     \n",
       "3299                                        1561.394848                                     \n",
       "\n",
       "      odległość w metrach do najbliższego POI (-1 = większe niż 5000 m) - stacja benzynowa (stacja paliw)  \\\n",
       "0                                           1161.000000                                                     \n",
       "1                                            242.000000                                                     \n",
       "2                                            412.000000                                                     \n",
       "3                                            472.000000                                                     \n",
       "4                                            893.000000                                                     \n",
       "...                                                 ...                                                     \n",
       "3295                                        2891.611201                                                     \n",
       "3296                                        1585.574685                                                     \n",
       "3297                                        1558.785063                                                     \n",
       "3298                                        4586.570470                                                     \n",
       "3299                                        1681.860074                                                     \n",
       "\n",
       "      odległość w metrach do najbliższego punktu POI (-1 = większa niż 5000 m) - suma transportu  \\\n",
       "0                                            103.000000                                            \n",
       "1                                             63.000000                                            \n",
       "2                                            138.000000                                            \n",
       "3                                            204.000000                                            \n",
       "4                                            128.000000                                            \n",
       "...                                                 ...                                            \n",
       "3295                                         548.908697                                            \n",
       "3296                                         543.408219                                            \n",
       "3297                                         647.015471                                            \n",
       "3298                                         587.228933                                            \n",
       "3299                                         669.075375                                            \n",
       "\n",
       "      odległość w metrach do najbliższego POI (-1 = większy niż 5000 m) - stacja kolejowa transportu  \\\n",
       "0                                           2378.000000                                                \n",
       "1                                            580.000000                                                \n",
       "2                                           1400.000000                                                \n",
       "3                                           1287.000000                                                \n",
       "4                                           2986.000000                                                \n",
       "...                                                 ...                                                \n",
       "3295                                        2641.051000                                                \n",
       "3296                                        2938.970940                                                \n",
       "3297                                        5429.128889                                                \n",
       "3298                                        6300.039792                                                \n",
       "3299                                        4520.145146                                                \n",
       "\n",
       "      odległość w metrach do najbliższego POI (-1 = większy niż 5000 m) - zatrzymuje się transport  \\\n",
       "0                                            103.000000                                              \n",
       "1                                             63.000000                                              \n",
       "2                                            158.000000                                              \n",
       "3                                            204.000000                                              \n",
       "4                                            128.000000                                              \n",
       "...                                                 ...                                              \n",
       "3295                                         391.251472                                              \n",
       "3296                                         548.811268                                              \n",
       "3297                                         816.142975                                              \n",
       "3298                                         580.820894                                              \n",
       "3299                                         565.918548                                              \n",
       "\n",
       "      odległość w metrach do najbliższego POI (-1 = więcej niż 5000 m) - biuro / administracja publiczna  \\\n",
       "0                                           1217.000000                                                    \n",
       "1                                           1464.000000                                                    \n",
       "2                                            406.000000                                                    \n",
       "3                                           1168.000000                                                    \n",
       "4                                           2081.000000                                                    \n",
       "...                                                 ...                                                    \n",
       "3295                                        1594.937926                                                    \n",
       "3296                                        3847.945496                                                    \n",
       "3297                                        3254.257154                                                    \n",
       "3298                                        2254.975443                                                    \n",
       "3299                                        2776.334431                                                    \n",
       "\n",
       "      odległość w metrach do najbliższego POI (-1 = więcej niż 5000 m) - suma zdrowia  \\\n",
       "0                                            200.000000                                 \n",
       "1                                              0.000000                                 \n",
       "2                                             57.000000                                 \n",
       "3                                             89.000000                                 \n",
       "4                                             66.000000                                 \n",
       "...                                                 ...                                 \n",
       "3295                                         512.845991                                 \n",
       "3296                                         510.334668                                 \n",
       "3297                                        1439.504008                                 \n",
       "3298                                        1373.862701                                 \n",
       "3299                                         691.541170                                 \n",
       "\n",
       "      odległość w metrach do najbliższego POI (-1 = większy niż 5000 m) - apteka zdrowia  \n",
       "0                                            420.000000                                   \n",
       "1                                              0.000000                                   \n",
       "2                                             57.000000                                   \n",
       "3                                            179.000000                                   \n",
       "4                                             66.000000                                   \n",
       "...                                                 ...                                   \n",
       "3295                                         901.732418                                   \n",
       "3296                                         839.384131                                   \n",
       "3297                                        1820.698965                                   \n",
       "3298                                        1957.882224                                   \n",
       "3299                                        1070.871929                                   \n",
       "\n",
       "[3300 rows x 86 columns]"
      ],
      "text/html": [
       "<div>\n",
       "<style scoped>\n",
       "    .dataframe tbody tr th:only-of-type {\n",
       "        vertical-align: middle;\n",
       "    }\n",
       "\n",
       "    .dataframe tbody tr th {\n",
       "        vertical-align: top;\n",
       "    }\n",
       "\n",
       "    .dataframe thead th {\n",
       "        text-align: right;\n",
       "    }\n",
       "</style>\n",
       "<table border=\"1\" class=\"dataframe\">\n",
       "  <thead>\n",
       "    <tr style=\"text-align: right;\">\n",
       "      <th></th>\n",
       "      <th>liczba budynków – suma</th>\n",
       "      <th>liczba budynków - mieszkalnych</th>\n",
       "      <th>liczba mieszkań - mieszkalnych według DataWise</th>\n",
       "      <th>szacowana liczba mieszkańców razem</th>\n",
       "      <th>średnia liczba osób na gospodarstwo domowe</th>\n",
       "      <th>gęstość zaludnienia osób na km2</th>\n",
       "      <th>szacowany średni wiek mieszkańców razem</th>\n",
       "      <th>populacja - procent kobiet</th>\n",
       "      <th>populacja - procent mężczyzn</th>\n",
       "      <th>przykład: 4.13</th>\n",
       "      <th>...</th>\n",
       "      <th>odległość w metrach do najbliższego POI (-1 = większy niż 5000 m) - miejsca kultu (kościół)</th>\n",
       "      <th>odległość w metrach do najbliższego POI (-1 = większa niż 5000 m) - poczta (poczta)</th>\n",
       "      <th>odległość w metrach do najbliższego POI (-1 = większy niż 5000 m) - rozrywka i kult</th>\n",
       "      <th>odległość w metrach do najbliższego POI (-1 = większe niż 5000 m) - stacja benzynowa (stacja paliw)</th>\n",
       "      <th>odległość w metrach do najbliższego punktu POI (-1 = większa niż 5000 m) - suma transportu</th>\n",
       "      <th>odległość w metrach do najbliższego POI (-1 = większy niż 5000 m) - stacja kolejowa transportu</th>\n",
       "      <th>odległość w metrach do najbliższego POI (-1 = większy niż 5000 m) - zatrzymuje się transport</th>\n",
       "      <th>odległość w metrach do najbliższego POI (-1 = więcej niż 5000 m) - biuro / administracja publiczna</th>\n",
       "      <th>odległość w metrach do najbliższego POI (-1 = więcej niż 5000 m) - suma zdrowia</th>\n",
       "      <th>odległość w metrach do najbliższego POI (-1 = większy niż 5000 m) - apteka zdrowia</th>\n",
       "    </tr>\n",
       "  </thead>\n",
       "  <tbody>\n",
       "    <tr>\n",
       "      <th>0</th>\n",
       "      <td>389.000000</td>\n",
       "      <td>333.000000</td>\n",
       "      <td>879.000000</td>\n",
       "      <td>2447.000000</td>\n",
       "      <td>3.100000</td>\n",
       "      <td>7456.000000</td>\n",
       "      <td>43.200000</td>\n",
       "      <td>52.800000</td>\n",
       "      <td>47.200000</td>\n",
       "      <td>4.170000</td>\n",
       "      <td>...</td>\n",
       "      <td>50.000000</td>\n",
       "      <td>457.000000</td>\n",
       "      <td>457.000000</td>\n",
       "      <td>1161.000000</td>\n",
       "      <td>103.000000</td>\n",
       "      <td>2378.000000</td>\n",
       "      <td>103.000000</td>\n",
       "      <td>1217.000000</td>\n",
       "      <td>200.000000</td>\n",
       "      <td>420.000000</td>\n",
       "    </tr>\n",
       "    <tr>\n",
       "      <th>1</th>\n",
       "      <td>215.000000</td>\n",
       "      <td>166.000000</td>\n",
       "      <td>766.000000</td>\n",
       "      <td>1848.000000</td>\n",
       "      <td>2.500000</td>\n",
       "      <td>6752.000000</td>\n",
       "      <td>45.100000</td>\n",
       "      <td>55.030000</td>\n",
       "      <td>44.970000</td>\n",
       "      <td>3.410000</td>\n",
       "      <td>...</td>\n",
       "      <td>362.000000</td>\n",
       "      <td>77.000000</td>\n",
       "      <td>2572.000000</td>\n",
       "      <td>242.000000</td>\n",
       "      <td>63.000000</td>\n",
       "      <td>580.000000</td>\n",
       "      <td>63.000000</td>\n",
       "      <td>1464.000000</td>\n",
       "      <td>0.000000</td>\n",
       "      <td>0.000000</td>\n",
       "    </tr>\n",
       "    <tr>\n",
       "      <th>2</th>\n",
       "      <td>317.000000</td>\n",
       "      <td>183.000000</td>\n",
       "      <td>2397.000000</td>\n",
       "      <td>4702.000000</td>\n",
       "      <td>2.190000</td>\n",
       "      <td>18884.000000</td>\n",
       "      <td>41.000000</td>\n",
       "      <td>54.910000</td>\n",
       "      <td>45.090000</td>\n",
       "      <td>7.040000</td>\n",
       "      <td>...</td>\n",
       "      <td>95.000000</td>\n",
       "      <td>197.000000</td>\n",
       "      <td>358.000000</td>\n",
       "      <td>412.000000</td>\n",
       "      <td>138.000000</td>\n",
       "      <td>1400.000000</td>\n",
       "      <td>158.000000</td>\n",
       "      <td>406.000000</td>\n",
       "      <td>57.000000</td>\n",
       "      <td>57.000000</td>\n",
       "    </tr>\n",
       "    <tr>\n",
       "      <th>3</th>\n",
       "      <td>21.000000</td>\n",
       "      <td>7.000000</td>\n",
       "      <td>52.000000</td>\n",
       "      <td>212.000000</td>\n",
       "      <td>2.410000</td>\n",
       "      <td>2332.000000</td>\n",
       "      <td>34.600000</td>\n",
       "      <td>36.320000</td>\n",
       "      <td>63.680000</td>\n",
       "      <td>5.190000</td>\n",
       "      <td>...</td>\n",
       "      <td>751.000000</td>\n",
       "      <td>252.000000</td>\n",
       "      <td>255.000000</td>\n",
       "      <td>472.000000</td>\n",
       "      <td>204.000000</td>\n",
       "      <td>1287.000000</td>\n",
       "      <td>204.000000</td>\n",
       "      <td>1168.000000</td>\n",
       "      <td>89.000000</td>\n",
       "      <td>179.000000</td>\n",
       "    </tr>\n",
       "    <tr>\n",
       "      <th>4</th>\n",
       "      <td>64.000000</td>\n",
       "      <td>33.000000</td>\n",
       "      <td>799.000000</td>\n",
       "      <td>1900.000000</td>\n",
       "      <td>2.410000</td>\n",
       "      <td>11243.000000</td>\n",
       "      <td>45.400000</td>\n",
       "      <td>54.680000</td>\n",
       "      <td>45.320000</td>\n",
       "      <td>3.110000</td>\n",
       "      <td>...</td>\n",
       "      <td>542.000000</td>\n",
       "      <td>488.000000</td>\n",
       "      <td>294.000000</td>\n",
       "      <td>893.000000</td>\n",
       "      <td>128.000000</td>\n",
       "      <td>2986.000000</td>\n",
       "      <td>128.000000</td>\n",
       "      <td>2081.000000</td>\n",
       "      <td>66.000000</td>\n",
       "      <td>66.000000</td>\n",
       "    </tr>\n",
       "    <tr>\n",
       "      <th>...</th>\n",
       "      <td>...</td>\n",
       "      <td>...</td>\n",
       "      <td>...</td>\n",
       "      <td>...</td>\n",
       "      <td>...</td>\n",
       "      <td>...</td>\n",
       "      <td>...</td>\n",
       "      <td>...</td>\n",
       "      <td>...</td>\n",
       "      <td>...</td>\n",
       "      <td>...</td>\n",
       "      <td>...</td>\n",
       "      <td>...</td>\n",
       "      <td>...</td>\n",
       "      <td>...</td>\n",
       "      <td>...</td>\n",
       "      <td>...</td>\n",
       "      <td>...</td>\n",
       "      <td>...</td>\n",
       "      <td>...</td>\n",
       "      <td>...</td>\n",
       "    </tr>\n",
       "    <tr>\n",
       "      <th>3295</th>\n",
       "      <td>492.109860</td>\n",
       "      <td>254.270337</td>\n",
       "      <td>3402.375750</td>\n",
       "      <td>5533.034810</td>\n",
       "      <td>3.718570</td>\n",
       "      <td>16801.875581</td>\n",
       "      <td>59.943387</td>\n",
       "      <td>56.251481</td>\n",
       "      <td>68.658499</td>\n",
       "      <td>6.076553</td>\n",
       "      <td>...</td>\n",
       "      <td>1679.576565</td>\n",
       "      <td>1042.385547</td>\n",
       "      <td>969.909751</td>\n",
       "      <td>2891.611201</td>\n",
       "      <td>548.908697</td>\n",
       "      <td>2641.051000</td>\n",
       "      <td>391.251472</td>\n",
       "      <td>1594.937926</td>\n",
       "      <td>512.845991</td>\n",
       "      <td>901.732418</td>\n",
       "    </tr>\n",
       "    <tr>\n",
       "      <th>3296</th>\n",
       "      <td>273.268659</td>\n",
       "      <td>211.320631</td>\n",
       "      <td>2125.373921</td>\n",
       "      <td>5820.989625</td>\n",
       "      <td>3.874501</td>\n",
       "      <td>25107.319168</td>\n",
       "      <td>68.665858</td>\n",
       "      <td>64.612474</td>\n",
       "      <td>53.128826</td>\n",
       "      <td>10.173180</td>\n",
       "      <td>...</td>\n",
       "      <td>799.233457</td>\n",
       "      <td>1095.427443</td>\n",
       "      <td>1936.870936</td>\n",
       "      <td>1585.574685</td>\n",
       "      <td>543.408219</td>\n",
       "      <td>2938.970940</td>\n",
       "      <td>548.811268</td>\n",
       "      <td>3847.945496</td>\n",
       "      <td>510.334668</td>\n",
       "      <td>839.384131</td>\n",
       "    </tr>\n",
       "    <tr>\n",
       "      <th>3297</th>\n",
       "      <td>143.383841</td>\n",
       "      <td>144.220303</td>\n",
       "      <td>2317.854380</td>\n",
       "      <td>2373.973439</td>\n",
       "      <td>5.703964</td>\n",
       "      <td>13654.269118</td>\n",
       "      <td>77.902255</td>\n",
       "      <td>66.625106</td>\n",
       "      <td>61.759721</td>\n",
       "      <td>9.827462</td>\n",
       "      <td>...</td>\n",
       "      <td>2833.950940</td>\n",
       "      <td>2157.201639</td>\n",
       "      <td>2031.764480</td>\n",
       "      <td>1558.785063</td>\n",
       "      <td>647.015471</td>\n",
       "      <td>5429.128889</td>\n",
       "      <td>816.142975</td>\n",
       "      <td>3254.257154</td>\n",
       "      <td>1439.504008</td>\n",
       "      <td>1820.698965</td>\n",
       "    </tr>\n",
       "    <tr>\n",
       "      <th>3298</th>\n",
       "      <td>216.238607</td>\n",
       "      <td>215.607785</td>\n",
       "      <td>1379.449557</td>\n",
       "      <td>2145.232405</td>\n",
       "      <td>3.969061</td>\n",
       "      <td>11830.664273</td>\n",
       "      <td>55.748790</td>\n",
       "      <td>57.630025</td>\n",
       "      <td>51.675961</td>\n",
       "      <td>8.164465</td>\n",
       "      <td>...</td>\n",
       "      <td>2613.907197</td>\n",
       "      <td>2040.252461</td>\n",
       "      <td>4229.277823</td>\n",
       "      <td>4586.570470</td>\n",
       "      <td>587.228933</td>\n",
       "      <td>6300.039792</td>\n",
       "      <td>580.820894</td>\n",
       "      <td>2254.975443</td>\n",
       "      <td>1373.862701</td>\n",
       "      <td>1957.882224</td>\n",
       "    </tr>\n",
       "    <tr>\n",
       "      <th>3299</th>\n",
       "      <td>354.847244</td>\n",
       "      <td>194.633569</td>\n",
       "      <td>2596.063112</td>\n",
       "      <td>3410.503209</td>\n",
       "      <td>3.318238</td>\n",
       "      <td>12223.092404</td>\n",
       "      <td>53.232114</td>\n",
       "      <td>77.738858</td>\n",
       "      <td>51.156205</td>\n",
       "      <td>15.803509</td>\n",
       "      <td>...</td>\n",
       "      <td>772.079402</td>\n",
       "      <td>1130.170978</td>\n",
       "      <td>1561.394848</td>\n",
       "      <td>1681.860074</td>\n",
       "      <td>669.075375</td>\n",
       "      <td>4520.145146</td>\n",
       "      <td>565.918548</td>\n",
       "      <td>2776.334431</td>\n",
       "      <td>691.541170</td>\n",
       "      <td>1070.871929</td>\n",
       "    </tr>\n",
       "  </tbody>\n",
       "</table>\n",
       "<p>3300 rows × 86 columns</p>\n",
       "</div>"
      ]
     },
     "execution_count": 34,
     "metadata": {},
     "output_type": "execute_result"
    }
   ],
   "execution_count": 34
  },
  {
   "metadata": {
    "ExecuteTime": {
     "end_time": "2024-10-20T00:51:00.944784Z",
     "start_time": "2024-10-20T00:51:00.933996Z"
    }
   },
   "cell_type": "code",
   "source": "df.filter(like='populacja', axis=1)",
   "id": "d2fd91b3ec8059a6",
   "outputs": [
    {
     "data": {
      "text/plain": [
       "      populacja - procent kobiet  populacja - procent mężczyzn  \\\n",
       "0                      52.800000                     47.200000   \n",
       "1                      55.030000                     44.970000   \n",
       "2                      54.910000                     45.090000   \n",
       "3                      36.320000                     63.680000   \n",
       "4                      54.680000                     45.320000   \n",
       "...                          ...                           ...   \n",
       "3295                   56.251481                     68.658499   \n",
       "3296                   64.612474                     53.128826   \n",
       "3297                   66.625106                     61.759721   \n",
       "3298                   57.630025                     51.675961   \n",
       "3299                   77.738858                     51.156205   \n",
       "\n",
       "      populacja - procentowe kategorie wiekowe od 5 do 9 lat  \\\n",
       "0                                              4.860000        \n",
       "1                                              3.790000        \n",
       "2                                              4.250000        \n",
       "3                                              5.660000        \n",
       "4                                              5.630000        \n",
       "...                                                 ...        \n",
       "3295                                          12.727695        \n",
       "3296                                          14.076172        \n",
       "3297                                          11.420884        \n",
       "3298                                          14.284921        \n",
       "3299                                          16.225678        \n",
       "\n",
       "      populacja - kategorie wiekowe od 10 do 14 lat  \\\n",
       "0                                          5.270000   \n",
       "1                                          4.710000   \n",
       "2                                          4.320000   \n",
       "3                                          7.080000   \n",
       "4                                          4.110000   \n",
       "...                                             ...   \n",
       "3295                                       9.170747   \n",
       "3296                                      12.320120   \n",
       "3297                                       6.226968   \n",
       "3298                                       8.724410   \n",
       "3299                                       9.500368   \n",
       "\n",
       "      populacja - procentowe kategorie wiekowe od 15 do 19 lat  \\\n",
       "0                                              4.000000          \n",
       "1                                              5.090000          \n",
       "2                                              2.850000          \n",
       "3                                              3.770000          \n",
       "4                                              3.110000          \n",
       "...                                                 ...          \n",
       "3295                                           9.606407          \n",
       "3296                                           6.798443          \n",
       "3297                                           5.806505          \n",
       "3298                                          15.452621          \n",
       "3299                                          11.282365          \n",
       "\n",
       "      populacja - procentowe kategorie wiekowe od 20 do 24 lat  \\\n",
       "0                                              5.190000          \n",
       "1                                              5.030000          \n",
       "2                                              4.380000          \n",
       "3                                              0.470000          \n",
       "4                                              2.370000          \n",
       "...                                                 ...          \n",
       "3295                                           9.532841          \n",
       "3296                                           7.080233          \n",
       "3297                                           4.540408          \n",
       "3298                                          12.591177          \n",
       "3299                                          11.037279          \n",
       "\n",
       "      populacja - procentowe kategorie wiekowe od 25 do 29 lat  \\\n",
       "0                                              6.050000          \n",
       "1                                              4.550000          \n",
       "2                                              7.210000          \n",
       "3                                              1.420000          \n",
       "4                                              4.890000          \n",
       "...                                                 ...          \n",
       "3295                                          14.136720          \n",
       "3296                                          11.159663          \n",
       "3297                                           6.182584          \n",
       "3298                                          11.887358          \n",
       "3299                                          11.173409          \n",
       "\n",
       "      populacja - procentowe kategorie wiekowe od 30 do 34 lat  \\\n",
       "0                                              6.130000          \n",
       "1                                              5.190000          \n",
       "2                                             11.210000          \n",
       "3                                              3.300000          \n",
       "4                                              5.890000          \n",
       "...                                                 ...          \n",
       "3295                                          15.805027          \n",
       "3296                                          13.158331          \n",
       "3297                                           6.362088          \n",
       "3298                                          27.458456          \n",
       "3299                                          15.252979          \n",
       "\n",
       "      populacja - kategorie wiekowe od 35 do 39 lat  \\\n",
       "0                                          8.300000   \n",
       "1                                          8.660000   \n",
       "2                                          8.660000   \n",
       "3                                         13.210000   \n",
       "4                                         11.680000   \n",
       "...                                             ...   \n",
       "3295                                      21.139422   \n",
       "3296                                      18.772784   \n",
       "3297                                      21.299117   \n",
       "3298                                      19.398585   \n",
       "3299                                      22.618623   \n",
       "\n",
       "      populacja - procentowe kategorie wiekowe od 40 do 44 lat  \\\n",
       "0                                              6.620000          \n",
       "1                                              7.950000          \n",
       "2                                              8.120000          \n",
       "3                                             50.940000          \n",
       "4                                              8.580000          \n",
       "...                                                 ...          \n",
       "3295                                          34.105351          \n",
       "3296                                          25.068602          \n",
       "3297                                          24.286430          \n",
       "3298                                          46.615609          \n",
       "3299                                          22.766294          \n",
       "\n",
       "      populacja - procentowe kategorie wiekowe od 45 do 49 lat  \\\n",
       "0                                              6.740000          \n",
       "1                                              6.600000          \n",
       "2                                              4.620000          \n",
       "3                                              5.190000          \n",
       "4                                              4.680000          \n",
       "...                                                 ...          \n",
       "3295                                          13.000327          \n",
       "3296                                          15.934353          \n",
       "3297                                          40.405672          \n",
       "3298                                          17.519967          \n",
       "3299                                          18.216252          \n",
       "\n",
       "      populacja - procentowe kategorie wiekowe od 50 do 54 lat  \\\n",
       "0                                              6.910000          \n",
       "1                                              4.980000          \n",
       "2                                              5.380000          \n",
       "3                                              0.470000          \n",
       "4                                              4.110000          \n",
       "...                                                 ...          \n",
       "3295                                          33.058920          \n",
       "3296                                          18.398537          \n",
       "3297                                          70.985449          \n",
       "3298                                          27.778581          \n",
       "3299                                          16.192514          \n",
       "\n",
       "      populacja - procentowe kategorie wiekowe od 55 do 59 lat  \\\n",
       "0                                              6.580000          \n",
       "1                                              4.110000          \n",
       "2                                              5.660000          \n",
       "3                                              0.000000          \n",
       "4                                              3.320000          \n",
       "...                                                 ...          \n",
       "3295                                          19.099815          \n",
       "3296                                          11.070062          \n",
       "3297                                           6.463077          \n",
       "3298                                          18.734332          \n",
       "3299                                           7.800185          \n",
       "\n",
       "      populacja - procentowe kategorie wiekowe od 60 do 64 lat  \\\n",
       "0                                              6.870000          \n",
       "1                                              8.330000          \n",
       "2                                              7.760000          \n",
       "3                                              1.890000          \n",
       "4                                             10.050000          \n",
       "...                                                 ...          \n",
       "3295                                          22.307572          \n",
       "3296                                          12.061847          \n",
       "3297                                           9.218036          \n",
       "3298                                          17.110415          \n",
       "3299                                          14.189512          \n",
       "\n",
       "      populacja - procentowe kategorie wiekowe od 65 do 69 lat  \\\n",
       "0                                              7.810000          \n",
       "1                                             12.280000          \n",
       "2                                              4.490000          \n",
       "3                                              0.940000          \n",
       "4                                             16.680000          \n",
       "...                                                 ...          \n",
       "3295                                          13.606500          \n",
       "3296                                          22.854405          \n",
       "3297                                           6.634425          \n",
       "3298                                          15.250618          \n",
       "3299                                          10.407970          \n",
       "\n",
       "      populacja - procent kategorii wiekowych od 70 do 75 lat  \\\n",
       "0                                              5.150000         \n",
       "1                                              8.280000         \n",
       "2                                              8.460000         \n",
       "3                                              0.470000         \n",
       "4                                              7.950000         \n",
       "...                                                 ...         \n",
       "3295                                          19.724985         \n",
       "3296                                          23.906415         \n",
       "3297                                          37.370731         \n",
       "3298                                          13.136536         \n",
       "3299                                          17.859780         \n",
       "\n",
       "      populacja - procent kategorii wiekowych powyżej 75 lat  \n",
       "0                                              9.360000       \n",
       "1                                              7.030000       \n",
       "2                                              5.590000       \n",
       "3                                              0.000000       \n",
       "4                                              3.840000       \n",
       "...                                                 ...       \n",
       "3295                                          10.864218       \n",
       "3296                                          19.602932       \n",
       "3297                                           5.829459       \n",
       "3298                                          10.989867       \n",
       "3299                                          15.421719       \n",
       "\n",
       "[3300 rows x 17 columns]"
      ],
      "text/html": [
       "<div>\n",
       "<style scoped>\n",
       "    .dataframe tbody tr th:only-of-type {\n",
       "        vertical-align: middle;\n",
       "    }\n",
       "\n",
       "    .dataframe tbody tr th {\n",
       "        vertical-align: top;\n",
       "    }\n",
       "\n",
       "    .dataframe thead th {\n",
       "        text-align: right;\n",
       "    }\n",
       "</style>\n",
       "<table border=\"1\" class=\"dataframe\">\n",
       "  <thead>\n",
       "    <tr style=\"text-align: right;\">\n",
       "      <th></th>\n",
       "      <th>populacja - procent kobiet</th>\n",
       "      <th>populacja - procent mężczyzn</th>\n",
       "      <th>populacja - procentowe kategorie wiekowe od 5 do 9 lat</th>\n",
       "      <th>populacja - kategorie wiekowe od 10 do 14 lat</th>\n",
       "      <th>populacja - procentowe kategorie wiekowe od 15 do 19 lat</th>\n",
       "      <th>populacja - procentowe kategorie wiekowe od 20 do 24 lat</th>\n",
       "      <th>populacja - procentowe kategorie wiekowe od 25 do 29 lat</th>\n",
       "      <th>populacja - procentowe kategorie wiekowe od 30 do 34 lat</th>\n",
       "      <th>populacja - kategorie wiekowe od 35 do 39 lat</th>\n",
       "      <th>populacja - procentowe kategorie wiekowe od 40 do 44 lat</th>\n",
       "      <th>populacja - procentowe kategorie wiekowe od 45 do 49 lat</th>\n",
       "      <th>populacja - procentowe kategorie wiekowe od 50 do 54 lat</th>\n",
       "      <th>populacja - procentowe kategorie wiekowe od 55 do 59 lat</th>\n",
       "      <th>populacja - procentowe kategorie wiekowe od 60 do 64 lat</th>\n",
       "      <th>populacja - procentowe kategorie wiekowe od 65 do 69 lat</th>\n",
       "      <th>populacja - procent kategorii wiekowych od 70 do 75 lat</th>\n",
       "      <th>populacja - procent kategorii wiekowych powyżej 75 lat</th>\n",
       "    </tr>\n",
       "  </thead>\n",
       "  <tbody>\n",
       "    <tr>\n",
       "      <th>0</th>\n",
       "      <td>52.800000</td>\n",
       "      <td>47.200000</td>\n",
       "      <td>4.860000</td>\n",
       "      <td>5.270000</td>\n",
       "      <td>4.000000</td>\n",
       "      <td>5.190000</td>\n",
       "      <td>6.050000</td>\n",
       "      <td>6.130000</td>\n",
       "      <td>8.300000</td>\n",
       "      <td>6.620000</td>\n",
       "      <td>6.740000</td>\n",
       "      <td>6.910000</td>\n",
       "      <td>6.580000</td>\n",
       "      <td>6.870000</td>\n",
       "      <td>7.810000</td>\n",
       "      <td>5.150000</td>\n",
       "      <td>9.360000</td>\n",
       "    </tr>\n",
       "    <tr>\n",
       "      <th>1</th>\n",
       "      <td>55.030000</td>\n",
       "      <td>44.970000</td>\n",
       "      <td>3.790000</td>\n",
       "      <td>4.710000</td>\n",
       "      <td>5.090000</td>\n",
       "      <td>5.030000</td>\n",
       "      <td>4.550000</td>\n",
       "      <td>5.190000</td>\n",
       "      <td>8.660000</td>\n",
       "      <td>7.950000</td>\n",
       "      <td>6.600000</td>\n",
       "      <td>4.980000</td>\n",
       "      <td>4.110000</td>\n",
       "      <td>8.330000</td>\n",
       "      <td>12.280000</td>\n",
       "      <td>8.280000</td>\n",
       "      <td>7.030000</td>\n",
       "    </tr>\n",
       "    <tr>\n",
       "      <th>2</th>\n",
       "      <td>54.910000</td>\n",
       "      <td>45.090000</td>\n",
       "      <td>4.250000</td>\n",
       "      <td>4.320000</td>\n",
       "      <td>2.850000</td>\n",
       "      <td>4.380000</td>\n",
       "      <td>7.210000</td>\n",
       "      <td>11.210000</td>\n",
       "      <td>8.660000</td>\n",
       "      <td>8.120000</td>\n",
       "      <td>4.620000</td>\n",
       "      <td>5.380000</td>\n",
       "      <td>5.660000</td>\n",
       "      <td>7.760000</td>\n",
       "      <td>4.490000</td>\n",
       "      <td>8.460000</td>\n",
       "      <td>5.590000</td>\n",
       "    </tr>\n",
       "    <tr>\n",
       "      <th>3</th>\n",
       "      <td>36.320000</td>\n",
       "      <td>63.680000</td>\n",
       "      <td>5.660000</td>\n",
       "      <td>7.080000</td>\n",
       "      <td>3.770000</td>\n",
       "      <td>0.470000</td>\n",
       "      <td>1.420000</td>\n",
       "      <td>3.300000</td>\n",
       "      <td>13.210000</td>\n",
       "      <td>50.940000</td>\n",
       "      <td>5.190000</td>\n",
       "      <td>0.470000</td>\n",
       "      <td>0.000000</td>\n",
       "      <td>1.890000</td>\n",
       "      <td>0.940000</td>\n",
       "      <td>0.470000</td>\n",
       "      <td>0.000000</td>\n",
       "    </tr>\n",
       "    <tr>\n",
       "      <th>4</th>\n",
       "      <td>54.680000</td>\n",
       "      <td>45.320000</td>\n",
       "      <td>5.630000</td>\n",
       "      <td>4.110000</td>\n",
       "      <td>3.110000</td>\n",
       "      <td>2.370000</td>\n",
       "      <td>4.890000</td>\n",
       "      <td>5.890000</td>\n",
       "      <td>11.680000</td>\n",
       "      <td>8.580000</td>\n",
       "      <td>4.680000</td>\n",
       "      <td>4.110000</td>\n",
       "      <td>3.320000</td>\n",
       "      <td>10.050000</td>\n",
       "      <td>16.680000</td>\n",
       "      <td>7.950000</td>\n",
       "      <td>3.840000</td>\n",
       "    </tr>\n",
       "    <tr>\n",
       "      <th>...</th>\n",
       "      <td>...</td>\n",
       "      <td>...</td>\n",
       "      <td>...</td>\n",
       "      <td>...</td>\n",
       "      <td>...</td>\n",
       "      <td>...</td>\n",
       "      <td>...</td>\n",
       "      <td>...</td>\n",
       "      <td>...</td>\n",
       "      <td>...</td>\n",
       "      <td>...</td>\n",
       "      <td>...</td>\n",
       "      <td>...</td>\n",
       "      <td>...</td>\n",
       "      <td>...</td>\n",
       "      <td>...</td>\n",
       "      <td>...</td>\n",
       "    </tr>\n",
       "    <tr>\n",
       "      <th>3295</th>\n",
       "      <td>56.251481</td>\n",
       "      <td>68.658499</td>\n",
       "      <td>12.727695</td>\n",
       "      <td>9.170747</td>\n",
       "      <td>9.606407</td>\n",
       "      <td>9.532841</td>\n",
       "      <td>14.136720</td>\n",
       "      <td>15.805027</td>\n",
       "      <td>21.139422</td>\n",
       "      <td>34.105351</td>\n",
       "      <td>13.000327</td>\n",
       "      <td>33.058920</td>\n",
       "      <td>19.099815</td>\n",
       "      <td>22.307572</td>\n",
       "      <td>13.606500</td>\n",
       "      <td>19.724985</td>\n",
       "      <td>10.864218</td>\n",
       "    </tr>\n",
       "    <tr>\n",
       "      <th>3296</th>\n",
       "      <td>64.612474</td>\n",
       "      <td>53.128826</td>\n",
       "      <td>14.076172</td>\n",
       "      <td>12.320120</td>\n",
       "      <td>6.798443</td>\n",
       "      <td>7.080233</td>\n",
       "      <td>11.159663</td>\n",
       "      <td>13.158331</td>\n",
       "      <td>18.772784</td>\n",
       "      <td>25.068602</td>\n",
       "      <td>15.934353</td>\n",
       "      <td>18.398537</td>\n",
       "      <td>11.070062</td>\n",
       "      <td>12.061847</td>\n",
       "      <td>22.854405</td>\n",
       "      <td>23.906415</td>\n",
       "      <td>19.602932</td>\n",
       "    </tr>\n",
       "    <tr>\n",
       "      <th>3297</th>\n",
       "      <td>66.625106</td>\n",
       "      <td>61.759721</td>\n",
       "      <td>11.420884</td>\n",
       "      <td>6.226968</td>\n",
       "      <td>5.806505</td>\n",
       "      <td>4.540408</td>\n",
       "      <td>6.182584</td>\n",
       "      <td>6.362088</td>\n",
       "      <td>21.299117</td>\n",
       "      <td>24.286430</td>\n",
       "      <td>40.405672</td>\n",
       "      <td>70.985449</td>\n",
       "      <td>6.463077</td>\n",
       "      <td>9.218036</td>\n",
       "      <td>6.634425</td>\n",
       "      <td>37.370731</td>\n",
       "      <td>5.829459</td>\n",
       "    </tr>\n",
       "    <tr>\n",
       "      <th>3298</th>\n",
       "      <td>57.630025</td>\n",
       "      <td>51.675961</td>\n",
       "      <td>14.284921</td>\n",
       "      <td>8.724410</td>\n",
       "      <td>15.452621</td>\n",
       "      <td>12.591177</td>\n",
       "      <td>11.887358</td>\n",
       "      <td>27.458456</td>\n",
       "      <td>19.398585</td>\n",
       "      <td>46.615609</td>\n",
       "      <td>17.519967</td>\n",
       "      <td>27.778581</td>\n",
       "      <td>18.734332</td>\n",
       "      <td>17.110415</td>\n",
       "      <td>15.250618</td>\n",
       "      <td>13.136536</td>\n",
       "      <td>10.989867</td>\n",
       "    </tr>\n",
       "    <tr>\n",
       "      <th>3299</th>\n",
       "      <td>77.738858</td>\n",
       "      <td>51.156205</td>\n",
       "      <td>16.225678</td>\n",
       "      <td>9.500368</td>\n",
       "      <td>11.282365</td>\n",
       "      <td>11.037279</td>\n",
       "      <td>11.173409</td>\n",
       "      <td>15.252979</td>\n",
       "      <td>22.618623</td>\n",
       "      <td>22.766294</td>\n",
       "      <td>18.216252</td>\n",
       "      <td>16.192514</td>\n",
       "      <td>7.800185</td>\n",
       "      <td>14.189512</td>\n",
       "      <td>10.407970</td>\n",
       "      <td>17.859780</td>\n",
       "      <td>15.421719</td>\n",
       "    </tr>\n",
       "  </tbody>\n",
       "</table>\n",
       "<p>3300 rows × 17 columns</p>\n",
       "</div>"
      ]
     },
     "execution_count": 35,
     "metadata": {},
     "output_type": "execute_result"
    }
   ],
   "execution_count": 35
  }
 ],
 "metadata": {
  "kernelspec": {
   "display_name": "Python 3",
   "language": "python",
   "name": "python3"
  },
  "language_info": {
   "codemirror_mode": {
    "name": "ipython",
    "version": 2
   },
   "file_extension": ".py",
   "mimetype": "text/x-python",
   "name": "python",
   "nbconvert_exporter": "python",
   "pygments_lexer": "ipython2",
   "version": "2.7.6"
  }
 },
 "nbformat": 4,
 "nbformat_minor": 5
}

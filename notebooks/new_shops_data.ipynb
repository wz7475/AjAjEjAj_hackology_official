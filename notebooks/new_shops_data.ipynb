{
 "cells": [
  {
   "cell_type": "code",
   "id": "initial_id",
   "metadata": {
    "collapsed": true,
    "ExecuteTime": {
     "end_time": "2024-10-20T07:31:27.854757Z",
     "start_time": "2024-10-20T07:31:27.849394Z"
    }
   },
   "source": [
    "import pandas as pd\n",
    "from sklearn.model_selection import train_test_split\n",
    "import numpy as np\n",
    "from sklearn import linear_model\n",
    "import shap"
   ],
   "outputs": [],
   "execution_count": 24
  },
  {
   "metadata": {
    "ExecuteTime": {
     "end_time": "2024-10-20T07:35:16.264538Z",
     "start_time": "2024-10-20T07:35:16.237408Z"
    }
   },
   "cell_type": "code",
   "source": [
    "x = pd.read_csv(\"../data/merged_data.csv\")\n",
    "x.drop(x.columns[0], axis=1, inplace=True)\n",
    "x.head()"
   ],
   "id": "ce449e01edb7bed2",
   "outputs": [
    {
     "data": {
      "text/plain": [
       "                 voiv        pov                mun  \\\n",
       "0           POMORSKIE     GDYNIA             GDYNIA   \n",
       "1             ŚLĄSKIE    GLIWICE            GLIWICE   \n",
       "2  KUJAWSKO-POMORSKIE  BYDGOSZCZ          BYDGOSZCZ   \n",
       "3         MAŁOPOLSKIE    BRZESKI            BRZESKO   \n",
       "4        DOLNOŚLĄSKIE    WROCŁAW  WROCŁAW-FABRYCZNA   \n",
       "\n",
       "                                mun_type msegm     mwg7    mwg7d   ctype  \\\n",
       "0                          GMINA MIEJSKA    A1  2262011  2262011  MIASTO   \n",
       "1                          GMINA MIEJSKA    A1  2466011  2466011  MIASTO   \n",
       "2                          GMINA MIEJSKA    A1   461011   461011  MIASTO   \n",
       "3  CZĘŚĆ MIEJSKA GMINY MIEJSKO-WIEJSKIEJ    B3  1202024  1202024  MIASTO   \n",
       "4                       DZIELNICA MIASTA    A1   264011   264029  MIASTO   \n",
       "\n",
       "   area_km2  bld_t  ...  pod_enc  pod_gst  pod_trt  pod_trst  pod_tsto  \\\n",
       "0    0.4461    535  ...       40      876       25       885        25   \n",
       "1    0.1666     65  ...       63      510       65      2174       454   \n",
       "2    0.2248     66  ...       15      441      264      1304       264   \n",
       "3    0.1834     49  ...      322       43     1055      2733      1055   \n",
       "4    0.1242     52  ...      680      634       63      1528        63   \n",
       "\n",
       "   pod_ps  pod_hea  pod_heap        lat        lon  \n",
       "0     346       74        83  54.522473  18.543697  \n",
       "1    1109       40        40  50.281363  18.670286  \n",
       "2    1022       15        15  53.157879  18.162657  \n",
       "3     773      187       187  49.962999  20.598595  \n",
       "4    2389      190       268  51.122731  16.974460  \n",
       "\n",
       "[5 rows x 112 columns]"
      ],
      "text/html": [
       "<div>\n",
       "<style scoped>\n",
       "    .dataframe tbody tr th:only-of-type {\n",
       "        vertical-align: middle;\n",
       "    }\n",
       "\n",
       "    .dataframe tbody tr th {\n",
       "        vertical-align: top;\n",
       "    }\n",
       "\n",
       "    .dataframe thead th {\n",
       "        text-align: right;\n",
       "    }\n",
       "</style>\n",
       "<table border=\"1\" class=\"dataframe\">\n",
       "  <thead>\n",
       "    <tr style=\"text-align: right;\">\n",
       "      <th></th>\n",
       "      <th>voiv</th>\n",
       "      <th>pov</th>\n",
       "      <th>mun</th>\n",
       "      <th>mun_type</th>\n",
       "      <th>msegm</th>\n",
       "      <th>mwg7</th>\n",
       "      <th>mwg7d</th>\n",
       "      <th>ctype</th>\n",
       "      <th>area_km2</th>\n",
       "      <th>bld_t</th>\n",
       "      <th>...</th>\n",
       "      <th>pod_enc</th>\n",
       "      <th>pod_gst</th>\n",
       "      <th>pod_trt</th>\n",
       "      <th>pod_trst</th>\n",
       "      <th>pod_tsto</th>\n",
       "      <th>pod_ps</th>\n",
       "      <th>pod_hea</th>\n",
       "      <th>pod_heap</th>\n",
       "      <th>lat</th>\n",
       "      <th>lon</th>\n",
       "    </tr>\n",
       "  </thead>\n",
       "  <tbody>\n",
       "    <tr>\n",
       "      <th>0</th>\n",
       "      <td>POMORSKIE</td>\n",
       "      <td>GDYNIA</td>\n",
       "      <td>GDYNIA</td>\n",
       "      <td>GMINA MIEJSKA</td>\n",
       "      <td>A1</td>\n",
       "      <td>2262011</td>\n",
       "      <td>2262011</td>\n",
       "      <td>MIASTO</td>\n",
       "      <td>0.4461</td>\n",
       "      <td>535</td>\n",
       "      <td>...</td>\n",
       "      <td>40</td>\n",
       "      <td>876</td>\n",
       "      <td>25</td>\n",
       "      <td>885</td>\n",
       "      <td>25</td>\n",
       "      <td>346</td>\n",
       "      <td>74</td>\n",
       "      <td>83</td>\n",
       "      <td>54.522473</td>\n",
       "      <td>18.543697</td>\n",
       "    </tr>\n",
       "    <tr>\n",
       "      <th>1</th>\n",
       "      <td>ŚLĄSKIE</td>\n",
       "      <td>GLIWICE</td>\n",
       "      <td>GLIWICE</td>\n",
       "      <td>GMINA MIEJSKA</td>\n",
       "      <td>A1</td>\n",
       "      <td>2466011</td>\n",
       "      <td>2466011</td>\n",
       "      <td>MIASTO</td>\n",
       "      <td>0.1666</td>\n",
       "      <td>65</td>\n",
       "      <td>...</td>\n",
       "      <td>63</td>\n",
       "      <td>510</td>\n",
       "      <td>65</td>\n",
       "      <td>2174</td>\n",
       "      <td>454</td>\n",
       "      <td>1109</td>\n",
       "      <td>40</td>\n",
       "      <td>40</td>\n",
       "      <td>50.281363</td>\n",
       "      <td>18.670286</td>\n",
       "    </tr>\n",
       "    <tr>\n",
       "      <th>2</th>\n",
       "      <td>KUJAWSKO-POMORSKIE</td>\n",
       "      <td>BYDGOSZCZ</td>\n",
       "      <td>BYDGOSZCZ</td>\n",
       "      <td>GMINA MIEJSKA</td>\n",
       "      <td>A1</td>\n",
       "      <td>461011</td>\n",
       "      <td>461011</td>\n",
       "      <td>MIASTO</td>\n",
       "      <td>0.2248</td>\n",
       "      <td>66</td>\n",
       "      <td>...</td>\n",
       "      <td>15</td>\n",
       "      <td>441</td>\n",
       "      <td>264</td>\n",
       "      <td>1304</td>\n",
       "      <td>264</td>\n",
       "      <td>1022</td>\n",
       "      <td>15</td>\n",
       "      <td>15</td>\n",
       "      <td>53.157879</td>\n",
       "      <td>18.162657</td>\n",
       "    </tr>\n",
       "    <tr>\n",
       "      <th>3</th>\n",
       "      <td>MAŁOPOLSKIE</td>\n",
       "      <td>BRZESKI</td>\n",
       "      <td>BRZESKO</td>\n",
       "      <td>CZĘŚĆ MIEJSKA GMINY MIEJSKO-WIEJSKIEJ</td>\n",
       "      <td>B3</td>\n",
       "      <td>1202024</td>\n",
       "      <td>1202024</td>\n",
       "      <td>MIASTO</td>\n",
       "      <td>0.1834</td>\n",
       "      <td>49</td>\n",
       "      <td>...</td>\n",
       "      <td>322</td>\n",
       "      <td>43</td>\n",
       "      <td>1055</td>\n",
       "      <td>2733</td>\n",
       "      <td>1055</td>\n",
       "      <td>773</td>\n",
       "      <td>187</td>\n",
       "      <td>187</td>\n",
       "      <td>49.962999</td>\n",
       "      <td>20.598595</td>\n",
       "    </tr>\n",
       "    <tr>\n",
       "      <th>4</th>\n",
       "      <td>DOLNOŚLĄSKIE</td>\n",
       "      <td>WROCŁAW</td>\n",
       "      <td>WROCŁAW-FABRYCZNA</td>\n",
       "      <td>DZIELNICA MIASTA</td>\n",
       "      <td>A1</td>\n",
       "      <td>264011</td>\n",
       "      <td>264029</td>\n",
       "      <td>MIASTO</td>\n",
       "      <td>0.1242</td>\n",
       "      <td>52</td>\n",
       "      <td>...</td>\n",
       "      <td>680</td>\n",
       "      <td>634</td>\n",
       "      <td>63</td>\n",
       "      <td>1528</td>\n",
       "      <td>63</td>\n",
       "      <td>2389</td>\n",
       "      <td>190</td>\n",
       "      <td>268</td>\n",
       "      <td>51.122731</td>\n",
       "      <td>16.974460</td>\n",
       "    </tr>\n",
       "  </tbody>\n",
       "</table>\n",
       "<p>5 rows × 112 columns</p>\n",
       "</div>"
      ]
     },
     "execution_count": 57,
     "metadata": {},
     "output_type": "execute_result"
    }
   ],
   "execution_count": 57
  },
  {
   "metadata": {
    "ExecuteTime": {
     "end_time": "2024-10-20T07:35:17.440235Z",
     "start_time": "2024-10-20T07:35:17.437882Z"
    }
   },
   "cell_type": "code",
   "source": "categorical_col = x.select_dtypes(include=[\"object\"]).columns.tolist()",
   "id": "26920d3a5e80b3ee",
   "outputs": [],
   "execution_count": 58
  },
  {
   "metadata": {
    "ExecuteTime": {
     "end_time": "2024-10-20T07:35:18.306088Z",
     "start_time": "2024-10-20T07:35:18.300572Z"
    }
   },
   "cell_type": "code",
   "source": "categorical_col",
   "id": "4585171f39e97c07",
   "outputs": [
    {
     "data": {
      "text/plain": [
       "['voiv', 'pov', 'mun', 'mun_type', 'msegm', 'ctype']"
      ]
     },
     "execution_count": 59,
     "metadata": {},
     "output_type": "execute_result"
    }
   ],
   "execution_count": 59
  },
  {
   "metadata": {
    "ExecuteTime": {
     "end_time": "2024-10-20T07:35:19.428633Z",
     "start_time": "2024-10-20T07:35:19.415513Z"
    }
   },
   "cell_type": "code",
   "source": [
    "from sklearn.preprocessing import OneHotEncoder\n",
    "\n",
    "encoder = OneHotEncoder(sparse_output=False)\n",
    "one_hot_encoded = encoder.fit_transform(x[categorical_col])"
   ],
   "id": "d124fbbaf82d0419",
   "outputs": [],
   "execution_count": 60
  },
  {
   "metadata": {
    "ExecuteTime": {
     "end_time": "2024-10-20T07:35:20.376281Z",
     "start_time": "2024-10-20T07:35:20.365476Z"
    }
   },
   "cell_type": "code",
   "source": [
    "one_hot_df = pd.DataFrame(one_hot_encoded,columns=encoder.get_feature_names_out(categorical_col))\n",
    "one_hot_df.head()"
   ],
   "id": "3aeada50bbc05ced",
   "outputs": [
    {
     "data": {
      "text/plain": [
       "   voiv_DOLNOŚLĄSKIE  voiv_KUJAWSKO-POMORSKIE  voiv_LUBELSKIE  voiv_LUBUSKIE  \\\n",
       "0                0.0                      0.0             0.0            0.0   \n",
       "1                0.0                      0.0             0.0            0.0   \n",
       "2                0.0                      1.0             0.0            0.0   \n",
       "3                0.0                      0.0             0.0            0.0   \n",
       "4                1.0                      0.0             0.0            0.0   \n",
       "\n",
       "   voiv_MAZOWIECKIE  voiv_MAŁOPOLSKIE  voiv_OPOLSKIE  voiv_PODKARPACKIE  \\\n",
       "0               0.0               0.0            0.0                0.0   \n",
       "1               0.0               0.0            0.0                0.0   \n",
       "2               0.0               0.0            0.0                0.0   \n",
       "3               0.0               1.0            0.0                0.0   \n",
       "4               0.0               0.0            0.0                0.0   \n",
       "\n",
       "   voiv_PODLASKIE  voiv_POMORSKIE  ...  mun_type_GMINA WIEJSKA  msegm_A1  \\\n",
       "0             0.0             1.0  ...                     0.0       1.0   \n",
       "1             0.0             0.0  ...                     0.0       1.0   \n",
       "2             0.0             0.0  ...                     0.0       1.0   \n",
       "3             0.0             0.0  ...                     0.0       0.0   \n",
       "4             0.0             0.0  ...                     0.0       1.0   \n",
       "\n",
       "   msegm_A2  msegm_B1  msegm_B2  msegm_B3  msegm_C1  msegm_C2  ctype_MIASTO  \\\n",
       "0       0.0       0.0       0.0       0.0       0.0       0.0           1.0   \n",
       "1       0.0       0.0       0.0       0.0       0.0       0.0           1.0   \n",
       "2       0.0       0.0       0.0       0.0       0.0       0.0           1.0   \n",
       "3       0.0       0.0       0.0       1.0       0.0       0.0           1.0   \n",
       "4       0.0       0.0       0.0       0.0       0.0       0.0           1.0   \n",
       "\n",
       "   ctype_WIEŚ  \n",
       "0         0.0  \n",
       "1         0.0  \n",
       "2         0.0  \n",
       "3         0.0  \n",
       "4         0.0  \n",
       "\n",
       "[5 rows x 1155 columns]"
      ],
      "text/html": [
       "<div>\n",
       "<style scoped>\n",
       "    .dataframe tbody tr th:only-of-type {\n",
       "        vertical-align: middle;\n",
       "    }\n",
       "\n",
       "    .dataframe tbody tr th {\n",
       "        vertical-align: top;\n",
       "    }\n",
       "\n",
       "    .dataframe thead th {\n",
       "        text-align: right;\n",
       "    }\n",
       "</style>\n",
       "<table border=\"1\" class=\"dataframe\">\n",
       "  <thead>\n",
       "    <tr style=\"text-align: right;\">\n",
       "      <th></th>\n",
       "      <th>voiv_DOLNOŚLĄSKIE</th>\n",
       "      <th>voiv_KUJAWSKO-POMORSKIE</th>\n",
       "      <th>voiv_LUBELSKIE</th>\n",
       "      <th>voiv_LUBUSKIE</th>\n",
       "      <th>voiv_MAZOWIECKIE</th>\n",
       "      <th>voiv_MAŁOPOLSKIE</th>\n",
       "      <th>voiv_OPOLSKIE</th>\n",
       "      <th>voiv_PODKARPACKIE</th>\n",
       "      <th>voiv_PODLASKIE</th>\n",
       "      <th>voiv_POMORSKIE</th>\n",
       "      <th>...</th>\n",
       "      <th>mun_type_GMINA WIEJSKA</th>\n",
       "      <th>msegm_A1</th>\n",
       "      <th>msegm_A2</th>\n",
       "      <th>msegm_B1</th>\n",
       "      <th>msegm_B2</th>\n",
       "      <th>msegm_B3</th>\n",
       "      <th>msegm_C1</th>\n",
       "      <th>msegm_C2</th>\n",
       "      <th>ctype_MIASTO</th>\n",
       "      <th>ctype_WIEŚ</th>\n",
       "    </tr>\n",
       "  </thead>\n",
       "  <tbody>\n",
       "    <tr>\n",
       "      <th>0</th>\n",
       "      <td>0.0</td>\n",
       "      <td>0.0</td>\n",
       "      <td>0.0</td>\n",
       "      <td>0.0</td>\n",
       "      <td>0.0</td>\n",
       "      <td>0.0</td>\n",
       "      <td>0.0</td>\n",
       "      <td>0.0</td>\n",
       "      <td>0.0</td>\n",
       "      <td>1.0</td>\n",
       "      <td>...</td>\n",
       "      <td>0.0</td>\n",
       "      <td>1.0</td>\n",
       "      <td>0.0</td>\n",
       "      <td>0.0</td>\n",
       "      <td>0.0</td>\n",
       "      <td>0.0</td>\n",
       "      <td>0.0</td>\n",
       "      <td>0.0</td>\n",
       "      <td>1.0</td>\n",
       "      <td>0.0</td>\n",
       "    </tr>\n",
       "    <tr>\n",
       "      <th>1</th>\n",
       "      <td>0.0</td>\n",
       "      <td>0.0</td>\n",
       "      <td>0.0</td>\n",
       "      <td>0.0</td>\n",
       "      <td>0.0</td>\n",
       "      <td>0.0</td>\n",
       "      <td>0.0</td>\n",
       "      <td>0.0</td>\n",
       "      <td>0.0</td>\n",
       "      <td>0.0</td>\n",
       "      <td>...</td>\n",
       "      <td>0.0</td>\n",
       "      <td>1.0</td>\n",
       "      <td>0.0</td>\n",
       "      <td>0.0</td>\n",
       "      <td>0.0</td>\n",
       "      <td>0.0</td>\n",
       "      <td>0.0</td>\n",
       "      <td>0.0</td>\n",
       "      <td>1.0</td>\n",
       "      <td>0.0</td>\n",
       "    </tr>\n",
       "    <tr>\n",
       "      <th>2</th>\n",
       "      <td>0.0</td>\n",
       "      <td>1.0</td>\n",
       "      <td>0.0</td>\n",
       "      <td>0.0</td>\n",
       "      <td>0.0</td>\n",
       "      <td>0.0</td>\n",
       "      <td>0.0</td>\n",
       "      <td>0.0</td>\n",
       "      <td>0.0</td>\n",
       "      <td>0.0</td>\n",
       "      <td>...</td>\n",
       "      <td>0.0</td>\n",
       "      <td>1.0</td>\n",
       "      <td>0.0</td>\n",
       "      <td>0.0</td>\n",
       "      <td>0.0</td>\n",
       "      <td>0.0</td>\n",
       "      <td>0.0</td>\n",
       "      <td>0.0</td>\n",
       "      <td>1.0</td>\n",
       "      <td>0.0</td>\n",
       "    </tr>\n",
       "    <tr>\n",
       "      <th>3</th>\n",
       "      <td>0.0</td>\n",
       "      <td>0.0</td>\n",
       "      <td>0.0</td>\n",
       "      <td>0.0</td>\n",
       "      <td>0.0</td>\n",
       "      <td>1.0</td>\n",
       "      <td>0.0</td>\n",
       "      <td>0.0</td>\n",
       "      <td>0.0</td>\n",
       "      <td>0.0</td>\n",
       "      <td>...</td>\n",
       "      <td>0.0</td>\n",
       "      <td>0.0</td>\n",
       "      <td>0.0</td>\n",
       "      <td>0.0</td>\n",
       "      <td>0.0</td>\n",
       "      <td>1.0</td>\n",
       "      <td>0.0</td>\n",
       "      <td>0.0</td>\n",
       "      <td>1.0</td>\n",
       "      <td>0.0</td>\n",
       "    </tr>\n",
       "    <tr>\n",
       "      <th>4</th>\n",
       "      <td>1.0</td>\n",
       "      <td>0.0</td>\n",
       "      <td>0.0</td>\n",
       "      <td>0.0</td>\n",
       "      <td>0.0</td>\n",
       "      <td>0.0</td>\n",
       "      <td>0.0</td>\n",
       "      <td>0.0</td>\n",
       "      <td>0.0</td>\n",
       "      <td>0.0</td>\n",
       "      <td>...</td>\n",
       "      <td>0.0</td>\n",
       "      <td>1.0</td>\n",
       "      <td>0.0</td>\n",
       "      <td>0.0</td>\n",
       "      <td>0.0</td>\n",
       "      <td>0.0</td>\n",
       "      <td>0.0</td>\n",
       "      <td>0.0</td>\n",
       "      <td>1.0</td>\n",
       "      <td>0.0</td>\n",
       "    </tr>\n",
       "  </tbody>\n",
       "</table>\n",
       "<p>5 rows × 1155 columns</p>\n",
       "</div>"
      ]
     },
     "execution_count": 61,
     "metadata": {},
     "output_type": "execute_result"
    }
   ],
   "execution_count": 61
  },
  {
   "metadata": {},
   "cell_type": "markdown",
   "source": "too many catecorical cols",
   "id": "6f3f4ab767b5fff7"
  },
  {
   "metadata": {
    "ExecuteTime": {
     "end_time": "2024-10-20T07:35:23.175181Z",
     "start_time": "2024-10-20T07:35:23.173183Z"
    }
   },
   "cell_type": "code",
   "source": "categorical_col.remove(\"ctype\")",
   "id": "4271cf937ab21795",
   "outputs": [],
   "execution_count": 62
  },
  {
   "metadata": {
    "ExecuteTime": {
     "end_time": "2024-10-20T07:35:25.664725Z",
     "start_time": "2024-10-20T07:35:25.658158Z"
    }
   },
   "cell_type": "code",
   "source": [
    "x = pd.get_dummies(x, columns=[\"ctype\"], dtype=float)\n",
    "x.drop(columns=categorical_col, inplace=True)"
   ],
   "id": "e5a6e54f1b00bfa",
   "outputs": [],
   "execution_count": 63
  },
  {
   "metadata": {
    "ExecuteTime": {
     "end_time": "2024-10-20T07:35:28.703322Z",
     "start_time": "2024-10-20T07:35:28.697248Z"
    }
   },
   "cell_type": "code",
   "source": [
    "y = pd.read_csv(\"../src/sales.csv\")\n",
    "y.drop(y.columns[0], axis=1, inplace=True)\n",
    "y.rename(columns={\"0\": \"sales\"}, inplace=True)\n",
    "y.head()"
   ],
   "id": "889d70b9d75ced62",
   "outputs": [
    {
     "data": {
      "text/plain": [
       "          sales\n",
       "0  1.005890e+08\n",
       "1  2.771304e+06\n",
       "2  1.133997e+07\n",
       "3  3.188996e+05\n",
       "4  2.953807e+06"
      ],
      "text/html": [
       "<div>\n",
       "<style scoped>\n",
       "    .dataframe tbody tr th:only-of-type {\n",
       "        vertical-align: middle;\n",
       "    }\n",
       "\n",
       "    .dataframe tbody tr th {\n",
       "        vertical-align: top;\n",
       "    }\n",
       "\n",
       "    .dataframe thead th {\n",
       "        text-align: right;\n",
       "    }\n",
       "</style>\n",
       "<table border=\"1\" class=\"dataframe\">\n",
       "  <thead>\n",
       "    <tr style=\"text-align: right;\">\n",
       "      <th></th>\n",
       "      <th>sales</th>\n",
       "    </tr>\n",
       "  </thead>\n",
       "  <tbody>\n",
       "    <tr>\n",
       "      <th>0</th>\n",
       "      <td>1.005890e+08</td>\n",
       "    </tr>\n",
       "    <tr>\n",
       "      <th>1</th>\n",
       "      <td>2.771304e+06</td>\n",
       "    </tr>\n",
       "    <tr>\n",
       "      <th>2</th>\n",
       "      <td>1.133997e+07</td>\n",
       "    </tr>\n",
       "    <tr>\n",
       "      <th>3</th>\n",
       "      <td>3.188996e+05</td>\n",
       "    </tr>\n",
       "    <tr>\n",
       "      <th>4</th>\n",
       "      <td>2.953807e+06</td>\n",
       "    </tr>\n",
       "  </tbody>\n",
       "</table>\n",
       "</div>"
      ]
     },
     "execution_count": 64,
     "metadata": {},
     "output_type": "execute_result"
    }
   ],
   "execution_count": 64
  },
  {
   "metadata": {
    "ExecuteTime": {
     "end_time": "2024-10-20T07:44:03.387377Z",
     "start_time": "2024-10-20T07:44:03.368210Z"
    }
   },
   "cell_type": "code",
   "source": [
    "x= x.fillna(x.mean())\n",
    "y = y.fillna(y.mean())"
   ],
   "id": "2bfd122135078286",
   "outputs": [],
   "execution_count": 79
  },
  {
   "metadata": {
    "ExecuteTime": {
     "end_time": "2024-10-20T07:44:05.161061Z",
     "start_time": "2024-10-20T07:44:05.157326Z"
    }
   },
   "cell_type": "code",
   "source": [
    "x_background_dist = x[:100]\n",
    "x = x[100:]\n",
    "y = y[100:]"
   ],
   "id": "b03b0dc63913b781",
   "outputs": [],
   "execution_count": 80
  },
  {
   "metadata": {
    "ExecuteTime": {
     "end_time": "2024-10-20T07:44:06.172705Z",
     "start_time": "2024-10-20T07:44:06.165335Z"
    }
   },
   "cell_type": "code",
   "source": "X_train, X_test, y_train, y_test = train_test_split(x, y.values, test_size=0.2, random_state=0)",
   "id": "48c651b79bc41a08",
   "outputs": [],
   "execution_count": 81
  },
  {
   "metadata": {
    "ExecuteTime": {
     "end_time": "2024-10-20T07:44:07.161695Z",
     "start_time": "2024-10-20T07:44:07.158720Z"
    }
   },
   "cell_type": "code",
   "source": "np.mean(y_test), np.std(y_test)",
   "id": "44518b2f9a0a9a2f",
   "outputs": [
    {
     "data": {
      "text/plain": [
       "(np.float64(6153189.493206211), np.float64(10970414.656643888))"
      ]
     },
     "execution_count": 82,
     "metadata": {},
     "output_type": "execute_result"
    }
   ],
   "execution_count": 82
  },
  {
   "metadata": {
    "ExecuteTime": {
     "end_time": "2024-10-20T07:44:08.340419Z",
     "start_time": "2024-10-20T07:44:08.324465Z"
    }
   },
   "cell_type": "code",
   "source": [
    "lin_regr = linear_model.LinearRegression()\n",
    "lin_regr.fit(X_train, y_train)\n",
    "np.sqrt(np.mean((lin_regr.predict(X_test) - y_test) ** 2))"
   ],
   "id": "73a5aff743baef8d",
   "outputs": [
    {
     "data": {
      "text/plain": [
       "np.float64(3102203.0096571664)"
      ]
     },
     "execution_count": 83,
     "metadata": {},
     "output_type": "execute_result"
    }
   ],
   "execution_count": 83
  },
  {
   "metadata": {
    "ExecuteTime": {
     "end_time": "2024-10-20T07:44:24.052505Z",
     "start_time": "2024-10-20T07:44:19.149215Z"
    }
   },
   "cell_type": "code",
   "source": [
    "explainer = shap.Explainer(lin_regr.predict, x_background_dist)\n",
    "shap_values = explainer(X_test) "
   ],
   "id": "a6e963c36aa2bb57",
   "outputs": [],
   "execution_count": 84
  },
  {
   "metadata": {
    "ExecuteTime": {
     "end_time": "2024-10-20T07:44:27.570128Z",
     "start_time": "2024-10-20T07:44:27.395458Z"
    }
   },
   "cell_type": "code",
   "source": "shap.plots.beeswarm(shap_values)",
   "id": "836276c5341cada2",
   "outputs": [
    {
     "data": {
      "text/plain": [
       "<Figure size 800x550 with 2 Axes>"
      ],
      "image/png": "[encoded data removed]"
     },
     "metadata": {},
     "output_type": "display_data"
    }
   ],
   "execution_count": 85
  },
  {
   "metadata": {
    "ExecuteTime": {
     "end_time": "2024-10-20T07:44:48.936781Z",
     "start_time": "2024-10-20T07:44:48.931825Z"
    }
   },
   "cell_type": "code",
   "source": [
    "mean_shape_values = shap_values.mean(0).values\n",
    "feature_importance_by_shapley = dict((zip(X_test.columns, mean_shape_values)))"
   ],
   "id": "f5b530c425712612",
   "outputs": [],
   "execution_count": 87
  },
  {
   "metadata": {
    "ExecuteTime": {
     "end_time": "2024-10-20T07:44:51.572148Z",
     "start_time": "2024-10-20T07:44:51.570094Z"
    }
   },
   "cell_type": "code",
   "source": "sum_of_coefs = sum((feature_importance_by_shapley.values()))",
   "id": "3fad04f59480d555",
   "outputs": [],
   "execution_count": 88
  },
  {
   "metadata": {
    "ExecuteTime": {
     "end_time": "2024-10-20T07:44:55.820749Z",
     "start_time": "2024-10-20T07:44:55.816939Z"
    }
   },
   "cell_type": "code",
   "source": [
    "for feature in feature_importance_by_shapley:\n",
    "    feature_importance_by_shapley[feature] = feature_importance_by_shapley[feature] / sum_of_coefs"
   ],
   "id": "6579a5ed9cfeeab1",
   "outputs": [],
   "execution_count": 89
  },
  {
   "metadata": {
    "ExecuteTime": {
     "end_time": "2024-10-20T07:44:57.365384Z",
     "start_time": "2024-10-20T07:44:57.359656Z"
    }
   },
   "cell_type": "code",
   "source": "feature_importance_by_shapley",
   "id": "57c142aeffb6d2ca",
   "outputs": [
    {
     "data": {
      "text/plain": [
       "{'mwg7': np.float64(4.246567982358648),\n",
       " 'mwg7d': np.float64(-4.245427645455424),\n",
       " 'area_km2': np.float64(-0.35423268748797687),\n",
       " 'bld_t': np.float64(0.1688014431016437),\n",
       " 'bld_r': np.float64(-0.010440179641863964),\n",
       " 'apts_t': np.float64(0.642479079485822),\n",
       " 'apts_r': np.float64(-0.2651423082041513),\n",
       " 'pop_apts': np.float64(0.6750091289286804),\n",
       " 'pop_tot': np.float64(2.6522425553704942),\n",
       " 'hh_size': np.float64(-0.0076554510041056244),\n",
       " 'pop_den': np.float64(-0.7183858413351047),\n",
       " 'pop_ax_t': np.float64(0.22313317933882326),\n",
       " 'pprf': np.float64(0.1886163596180993),\n",
       " 'pprm': np.float64(-0.07847112680196283),\n",
       " 'ppr0004': np.float64(-0.09164946581734804),\n",
       " 'ppr0509': np.float64(0.020476774773875626),\n",
       " 'ppr1014': np.float64(0.008139495991730562),\n",
       " 'ppr1519': np.float64(-0.004641718671598632),\n",
       " 'ppr2024': np.float64(0.05496408835955416),\n",
       " 'ppr2529': np.float64(0.08536965591690764),\n",
       " 'ppr3034': np.float64(0.13628481540739806),\n",
       " 'ppr3539': np.float64(0.058374776893216865),\n",
       " 'ppr4044': np.float64(-0.1492248659028056),\n",
       " 'ppr4549': np.float64(-0.1817308469312519),\n",
       " 'ppr5054': np.float64(-0.001775341339273836),\n",
       " 'ppr5559': np.float64(0.07333499446475746),\n",
       " 'ppr6064': np.float64(0.11383635708244208),\n",
       " 'ppr6569': np.float64(0.16328422937057566),\n",
       " 'ppr7074': np.float64(-0.14120310847310813),\n",
       " 'ppr7599': np.float64(-0.4974980139791756),\n",
       " 'pbne_fcs': np.float64(-0.9258173289502574),\n",
       " 'pbne_fi': np.float64(-0.27735024949197284),\n",
       " 'pbne_fpu': np.float64(-0.20303456031989625),\n",
       " 'pbne_rsf': np.float64(6.898776461981511),\n",
       " 'pbne_rmb': np.float64(-3.830845173754957),\n",
       " 'pbne_rmt': np.float64(-2.1765613454398425),\n",
       " 'pbne_un': np.float64(0.49613854877354635),\n",
       " 'dinc_tot': np.float64(-0.5111229018141286),\n",
       " 'dinc_pc': np.float64(-0.0630546155172349),\n",
       " 'cs_all_tot': np.float64(2.716216607380259),\n",
       " 'cs_all_pc': np.float64(-0.029916902619268906),\n",
       " 'cs_fdb_tot': np.float64(-3.9706616901365948),\n",
       " 'cs_fdb_pc': np.float64(0.09118800503962718),\n",
       " 'poc_tot': np.float64(-0.11245014969145328),\n",
       " 'crc_tot': np.float64(-0.02618298641920228),\n",
       " 'workers': np.float64(0.03847296472875611),\n",
       " 'iahu_x': np.float64(-0.04757427453920528),\n",
       " 'iahu_p': np.float64(0.05474959198929705),\n",
       " 'poi_tot': np.float64(0.037030265518385744),\n",
       " 'poi_atm': np.float64(0.012815027491676989),\n",
       " 'poi_bank': np.float64(-0.026641022585383492),\n",
       " 'poi_mall': np.float64(0.0007859367652553037),\n",
       " 'poi_edut': np.float64(0.03475912056731026),\n",
       " 'poi_eduk': np.float64(-0.022446638338717954),\n",
       " 'poi_edup': np.float64(0.0004673647129328916),\n",
       " 'poi_edus': np.float64(-0.017229904362156837),\n",
       " 'poi_eduh': np.float64(1.4502600250611364e-05),\n",
       " 'poi_ret': np.float64(-0.0031575041428443876),\n",
       " 'poi_rcon': np.float64(0.00671827692003809),\n",
       " 'poi_rdro': np.float64(-0.006178469118793114),\n",
       " 'poi_rdys': np.float64(-0.017235968108439165),\n",
       " 'poi_rhip': np.float64(3.129638178283304e-05),\n",
       " 'poi_rsup': np.float64(0.0016501048381145655),\n",
       " 'poi_haz': np.float64(0.01233955144370679),\n",
       " 'poi_hor': np.float64(-0.016142352745394203),\n",
       " 'poi_cul': np.float64(-0.0006212841506349118),\n",
       " 'poi_poo': np.float64(-0.004625030572765362),\n",
       " 'poi_enc': np.float64(0.03480308727584538),\n",
       " 'poi_gst': np.float64(0.0001400498379208997),\n",
       " 'poi_trt': np.float64(-0.06076973425686768),\n",
       " 'poi_trst': np.float64(0.0002310867161033667),\n",
       " 'poi_tsto': np.float64(0.04232408297771671),\n",
       " 'poi_ps': np.float64(-0.0012937028679484398),\n",
       " 'poi_hea': np.float64(0.013658416108889),\n",
       " 'poi_heap': np.float64(-0.025049035972507815),\n",
       " 'alc_t': np.float64(0.08649032318053784),\n",
       " 'alc_r': np.float64(-0.006245343579042154),\n",
       " 'alc_h': np.float64(0.03322521476498139),\n",
       " 'pod_atm': np.float64(0.00043163719118717185),\n",
       " 'pod_bank': np.float64(0.00568894417598614),\n",
       " 'pod_mall': np.float64(-0.00041880916727912807),\n",
       " 'pod_edut': np.float64(-0.004909830397215146),\n",
       " 'pod_eduk': np.float64(0.006842514205919654),\n",
       " 'pod_edup': np.float64(-0.004296946608085082),\n",
       " 'pod_edus': np.float64(-0.0002787375097865193),\n",
       " 'pod_eduh': np.float64(0.00023248896087415207),\n",
       " 'pod_rt': np.float64(0.0012421847765449446),\n",
       " 'pod_rcon': np.float64(-0.004649964640422334),\n",
       " 'pod_rdro': np.float64(-0.00504795918565651),\n",
       " 'pod_rdys': np.float64(-9.08972103838989e-05),\n",
       " 'pod_rhip': np.float64(-0.00011332879579406446),\n",
       " 'pod_rsup': np.float64(-0.001197054940599126),\n",
       " 'pod_haz': np.float64(0.0012515460663012918),\n",
       " 'pod_hor': np.float64(0.0009116027480067628),\n",
       " 'pod_cul': np.float64(3.989090534625308e-05),\n",
       " 'pod_poo': np.float64(0.0020912307408268295),\n",
       " 'pod_enc': np.float64(-0.0019515469098559796),\n",
       " 'pod_gst': np.float64(-0.004917905482885876),\n",
       " 'pod_trt': np.float64(0.008390338546775879),\n",
       " 'pod_trst': np.float64(0.005659665583388767),\n",
       " 'pod_tsto': np.float64(-0.004253541254863808),\n",
       " 'pod_ps': np.float64(-0.0032640119560176104),\n",
       " 'pod_hea': np.float64(0.0045150741412197035),\n",
       " 'pod_heap': np.float64(0.0011371162735454039),\n",
       " 'lat': np.float64(0.00023725193793716474),\n",
       " 'lon': np.float64(0.001305842903593299),\n",
       " 'ctype_MIASTO': np.float64(0.0005795799458538711),\n",
       " 'ctype_WIEŚ': np.float64(0.0005795910390842471)}"
      ]
     },
     "execution_count": 90,
     "metadata": {},
     "output_type": "execute_result"
    }
   ],
   "execution_count": 90
  },
  {
   "metadata": {
    "ExecuteTime": {
     "end_time": "2024-10-20T07:45:02.622604Z",
     "start_time": "2024-10-20T07:45:02.586723Z"
    }
   },
   "cell_type": "code",
   "source": [
    "dataset = x.join(y)\n",
    "corr = dataset.corr()"
   ],
   "id": "6d52c5fed59a800a",
   "outputs": [],
   "execution_count": 91
  },
  {
   "metadata": {
    "ExecuteTime": {
     "end_time": "2024-10-20T07:45:03.891745Z",
     "start_time": "2024-10-20T07:45:03.809655Z"
    }
   },
   "cell_type": "code",
   "source": "corr[[\"sales\"]][:-1].boxplot()",
   "id": "f56960d6cbbbc103",
   "outputs": [
    {
     "data": {
      "text/plain": [
       "<Axes: >"
      ]
     },
     "execution_count": 92,
     "metadata": {},
     "output_type": "execute_result"
    },
    {
     "data": {
      "text/plain": [
       "<Figure size 640x480 with 1 Axes>"
      ],
      "image/png": "[encoded data removed]"
     },
     "metadata": {},
     "output_type": "display_data"
    }
   ],
   "execution_count": 92
  },
  {
   "metadata": {
    "ExecuteTime": {
     "end_time": "2024-10-20T07:45:10.117944Z",
     "start_time": "2024-10-20T07:45:10.112947Z"
    }
   },
   "cell_type": "code",
   "source": [
    "import json\n",
    "\n",
    "with open (\"../data/ficzurs_koefiszietns.json\", \"w\") as fp:\n",
    "    json.dump(feature_importance_by_shapley, fp, ensure_ascii=False, indent=4)"
   ],
   "id": "348493194a207f31",
   "outputs": [],
   "execution_count": 93
  },
  {
   "metadata": {
    "ExecuteTime": {
     "end_time": "2024-10-20T07:45:20.765706Z",
     "start_time": "2024-10-20T07:45:20.761038Z"
    }
   },
   "cell_type": "code",
   "source": "y_train[:,0].shape",
   "id": "4641444572bd3467",
   "outputs": [
    {
     "data": {
      "text/plain": [
       "(1051,)"
      ]
     },
     "execution_count": 94,
     "metadata": {},
     "output_type": "execute_result"
    }
   ],
   "execution_count": 94
  },
  {
   "metadata": {
    "ExecuteTime": {
     "end_time": "2024-10-20T07:46:05.567829Z",
     "start_time": "2024-10-20T07:46:02.470824Z"
    }
   },
   "cell_type": "code",
   "source": [
    "from sklearn.ensemble import RandomForestRegressor\n",
    "\n",
    "rf = RandomForestRegressor(n_estimators=200, max_depth=5)\n",
    "rf.fit(X_train, y_train[:,0])\n",
    "np.sqrt(np.mean((rf.predict(X_test) - y_test) ** 2))"
   ],
   "id": "fd6abe7a55caa595",
   "outputs": [
    {
     "data": {
      "text/plain": [
       "np.float64(16811152.158205934)"
      ]
     },
     "execution_count": 97,
     "metadata": {},
     "output_type": "execute_result"
    }
   ],
   "execution_count": 97
  },
  {
   "metadata": {
    "ExecuteTime": {
     "end_time": "2024-10-20T07:45:25.191131Z",
     "start_time": "2024-10-20T07:45:25.038141Z"
    }
   },
   "cell_type": "code",
   "source": [
    "from sklearn.neural_network import MLPRegressor\n",
    "\n",
    "mlp = MLPRegressor(hidden_layer_sizes=(64, 64), learning_rate_init=0.01)\n",
    "mlp.fit(X_train, y_train[:,0])\n",
    "np.sqrt(np.mean((mlp.predict(X_test) - y_test) ** 2))"
   ],
   "id": "4a9652a1381d455a",
   "outputs": [
    {
     "data": {
      "text/plain": [
       "np.float64(14605312.599477986)"
      ]
     },
     "execution_count": 96,
     "metadata": {},
     "output_type": "execute_result"
    }
   ],
   "execution_count": 96
  },
  {
   "metadata": {},
   "cell_type": "code",
   "source": [
    "mlp = MLPRegressor(hidden_layer_sizes=(), max_iter=1000, activation=\"identity\", learning_rate_init=0.01)\n",
    "mlp.fit(X_train, y_train[:,0])\n",
    "np.sqrt(np.mean((mlp.predict(X_test) - y_test) ** 2))"
   ],
   "id": "f5f244bfa88fa150",
   "outputs": [],
   "execution_count": null
  },
  {
   "metadata": {},
   "cell_type": "code",
   "source": [
    "mlp = MLPRegressor(hidden_layer_sizes=(32,), max_iter=1000, activation=\"relu\", learning_rate_init=0.001)\n",
    "mlp.fit(X_train, y_train[:,0])\n",
    "np.sqrt(np.mean((mlp.predict(X_test) - y_test) ** 2))"
   ],
   "id": "953c435f1d011e75",
   "outputs": [],
   "execution_count": null
  },
  {
   "metadata": {},
   "cell_type": "code",
   "source": [
    "from sklearn.preprocessing import StandardScaler\n",
    "\n",
    "scaler_x = StandardScaler()\n",
    "scaler_x.fit(X_train, y_test)\n",
    "x_train_scaled = scaler_x.transform(X_train)\n",
    "x_test_scaled = scaler_x.transform(X_test)\n",
    "\n",
    "\n",
    "\n",
    "mlp = MLPRegressor(hidden_layer_sizes=(), max_iter=10000, activation=\"identity\", learning_rate_init=0.1)\n",
    "mlp.fit(x_train_scaled, y_train[:,0])\n",
    "np.sqrt(np.mean((mlp.predict(x_test_scaled) - y_test) ** 2))"
   ],
   "id": "4051a569c051ceaa",
   "outputs": [],
   "execution_count": null
  }
 ],
 "metadata": {
  "kernelspec": {
   "display_name": "Python 3",
   "language": "python",
   "name": "python3"
  },
  "language_info": {
   "codemirror_mode": {
    "name": "ipython",
    "version": 2
   },
   "file_extension": ".py",
   "mimetype": "text/x-python",
   "name": "python",
   "nbconvert_exporter": "python",
   "pygments_lexer": "ipython2",
   "version": "2.7.6"
  }
 },
 "nbformat": 4,
 "nbformat_minor": 5
}
